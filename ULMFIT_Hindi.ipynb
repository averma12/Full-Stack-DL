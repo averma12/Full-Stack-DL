{
  "nbformat": 4,
  "nbformat_minor": 0,
  "metadata": {
    "colab": {
      "name": "ULMFIT_Hindi.ipynb",
      "provenance": [],
      "authorship_tag": "ABX9TyOxKtbRb16b+LjOE5SaQhKK",
      "include_colab_link": true
    },
    "kernelspec": {
      "name": "python3",
      "display_name": "Python 3"
    },
    "accelerator": "GPU"
  },
  "cells": [
    {
      "cell_type": "markdown",
      "metadata": {
        "id": "view-in-github",
        "colab_type": "text"
      },
      "source": [
        "<a href=\"https://colab.research.google.com/github/averma12/Full-Stack-DL/blob/master/ULMFIT_Hindi.ipynb\" target=\"_parent\"><img src=\"https://colab.research.google.com/assets/colab-badge.svg\" alt=\"Open In Colab\"/></a>"
      ]
    },
    {
      "cell_type": "code",
      "metadata": {
        "id": "yVMXK2lYpFbL",
        "colab_type": "code",
        "colab": {}
      },
      "source": [
        "from fastai import *\n",
        "from fastai.text import *"
      ],
      "execution_count": 0,
      "outputs": []
    },
    {
      "cell_type": "code",
      "metadata": {
        "id": "X6iyBRq4pWtc",
        "colab_type": "code",
        "colab": {}
      },
      "source": [
        "bs = 64"
      ],
      "execution_count": 0,
      "outputs": []
    },
    {
      "cell_type": "code",
      "metadata": {
        "id": "56tLfBBLpbRU",
        "colab_type": "code",
        "colab": {}
      },
      "source": [
        "data_path = Config.data_path()\n",
        "lang = 'hi'\n",
        "name = f'{lang}wiki'\n",
        "path = data_path/name\n",
        "dest = path/'docs'\n",
        "lm_fns = [f'{lang}_wt', f'{lang}_wt_vocab']"
      ],
      "execution_count": 0,
      "outputs": []
    },
    {
      "cell_type": "code",
      "metadata": {
        "id": "q6pYUXN5pqx8",
        "colab_type": "code",
        "colab": {}
      },
      "source": [
        "from fastai.basics import *\n",
        "import re"
      ],
      "execution_count": 0,
      "outputs": []
    },
    {
      "cell_type": "code",
      "metadata": {
        "id": "_VXCI9jBpuk4",
        "colab_type": "code",
        "colab": {}
      },
      "source": [
        "## Get wiki data helper function\n",
        "def get_wiki(path,lang):\n",
        "    name = f'{lang}wiki'\n",
        "    if (path/name).exists():\n",
        "        print(f\"{path/name} already exists; not downloading\")\n",
        "        return\n",
        "\n",
        "    xml_fn = f\"{lang}wiki-latest-pages-articles.xml\"\n",
        "    zip_fn = f\"{xml_fn}.bz2\"\n",
        "\n",
        "    if not (path/xml_fn).exists():\n",
        "        print(\"downloading...\")\n",
        "        download_url(f'https://dumps.wikimedia.org/{name}/latest/{zip_fn}', path/zip_fn)\n",
        "        print(\"unzipping...\")\n",
        "        bunzip(path/zip_fn)\n",
        "\n",
        "    with working_directory(path):\n",
        "        if not (path/'wikiextractor').exists(): os.system('git clone https://github.com/attardi/wikiextractor.git')\n",
        "        print(\"extracting...\")\n",
        "        os.system(\"python wikiextractor/WikiExtractor.py --processes 4 --no_templates \" +\n",
        "            f\"--min_text_length 1800 --filter_disambig_pages --log_file log -b 100G -q {xml_fn}\")\n",
        "    shutil.move(str(path/'text/AA/wiki_00'), str(path/name))\n",
        "    shutil.rmtree(path/'text')\n",
        "\n",
        "\n",
        "def split_wiki(path,lang):\n",
        "    dest = path/'docs'\n",
        "    name = f'{lang}wiki'\n",
        "    if dest.exists():\n",
        "        print(f\"{dest} already exists; not splitting\")\n",
        "        return dest\n",
        "\n",
        "    dest.mkdir(exist_ok=True, parents=True)\n",
        "    title_re = re.compile(rf'<doc id=\"\\d+\" url=\"https://{lang}.wikipedia.org/wiki\\?curid=\\d+\" title=\"([^\"]+)\">')\n",
        "    lines = (path/name).open()\n",
        "    f=None\n",
        "\n",
        "    for i,l in enumerate(lines):\n",
        "        if i%100000 == 0: print(i)\n",
        "        if l.startswith('<doc id=\"'):\n",
        "            title = title_re.findall(l)[0].replace('/','_')\n",
        "            if len(title)>150: continue\n",
        "            if f: f.close()\n",
        "            f = (dest/f'{title}.txt').open('w')\n",
        "        else: f.write(l)\n",
        "    f.close()\n",
        "    return dest"
      ],
      "execution_count": 0,
      "outputs": []
    },
    {
      "cell_type": "code",
      "metadata": {
        "id": "PZan1d7Pqagt",
        "colab_type": "code",
        "outputId": "c0a10d88-2753-44cd-c9ca-5b7c3326eca1",
        "colab": {
          "base_uri": "https://localhost:8080/",
          "height": 122
        }
      },
      "source": [
        "!pip install sentencepiece"
      ],
      "execution_count": 6,
      "outputs": [
        {
          "output_type": "stream",
          "text": [
            "Collecting sentencepiece\n",
            "\u001b[?25l  Downloading https://files.pythonhosted.org/packages/74/f4/2d5214cbf13d06e7cb2c20d84115ca25b53ea76fa1f0ade0e3c9749de214/sentencepiece-0.1.85-cp36-cp36m-manylinux1_x86_64.whl (1.0MB)\n",
            "\r\u001b[K     |▎                               | 10kB 23.6MB/s eta 0:00:01\r\u001b[K     |▋                               | 20kB 3.0MB/s eta 0:00:01\r\u001b[K     |█                               | 30kB 4.4MB/s eta 0:00:01\r\u001b[K     |█▎                              | 40kB 2.8MB/s eta 0:00:01\r\u001b[K     |█▋                              | 51kB 3.5MB/s eta 0:00:01\r\u001b[K     |██                              | 61kB 4.1MB/s eta 0:00:01\r\u001b[K     |██▏                             | 71kB 4.8MB/s eta 0:00:01\r\u001b[K     |██▌                             | 81kB 5.4MB/s eta 0:00:01\r\u001b[K     |██▉                             | 92kB 6.0MB/s eta 0:00:01\r\u001b[K     |███▏                            | 102kB 4.6MB/s eta 0:00:01\r\u001b[K     |███▌                            | 112kB 4.6MB/s eta 0:00:01\r\u001b[K     |███▉                            | 122kB 4.6MB/s eta 0:00:01\r\u001b[K     |████                            | 133kB 4.6MB/s eta 0:00:01\r\u001b[K     |████▍                           | 143kB 4.6MB/s eta 0:00:01\r\u001b[K     |████▊                           | 153kB 4.6MB/s eta 0:00:01\r\u001b[K     |█████                           | 163kB 4.6MB/s eta 0:00:01\r\u001b[K     |█████▍                          | 174kB 4.6MB/s eta 0:00:01\r\u001b[K     |█████▊                          | 184kB 4.6MB/s eta 0:00:01\r\u001b[K     |██████                          | 194kB 4.6MB/s eta 0:00:01\r\u001b[K     |██████▎                         | 204kB 4.6MB/s eta 0:00:01\r\u001b[K     |██████▋                         | 215kB 4.6MB/s eta 0:00:01\r\u001b[K     |███████                         | 225kB 4.6MB/s eta 0:00:01\r\u001b[K     |███████▎                        | 235kB 4.6MB/s eta 0:00:01\r\u001b[K     |███████▋                        | 245kB 4.6MB/s eta 0:00:01\r\u001b[K     |███████▉                        | 256kB 4.6MB/s eta 0:00:01\r\u001b[K     |████████▏                       | 266kB 4.6MB/s eta 0:00:01\r\u001b[K     |████████▌                       | 276kB 4.6MB/s eta 0:00:01\r\u001b[K     |████████▉                       | 286kB 4.6MB/s eta 0:00:01\r\u001b[K     |█████████▏                      | 296kB 4.6MB/s eta 0:00:01\r\u001b[K     |█████████▌                      | 307kB 4.6MB/s eta 0:00:01\r\u001b[K     |█████████▊                      | 317kB 4.6MB/s eta 0:00:01\r\u001b[K     |██████████                      | 327kB 4.6MB/s eta 0:00:01\r\u001b[K     |██████████▍                     | 337kB 4.6MB/s eta 0:00:01\r\u001b[K     |██████████▊                     | 348kB 4.6MB/s eta 0:00:01\r\u001b[K     |███████████                     | 358kB 4.6MB/s eta 0:00:01\r\u001b[K     |███████████▍                    | 368kB 4.6MB/s eta 0:00:01\r\u001b[K     |███████████▋                    | 378kB 4.6MB/s eta 0:00:01\r\u001b[K     |████████████                    | 389kB 4.6MB/s eta 0:00:01\r\u001b[K     |████████████▎                   | 399kB 4.6MB/s eta 0:00:01\r\u001b[K     |████████████▋                   | 409kB 4.6MB/s eta 0:00:01\r\u001b[K     |█████████████                   | 419kB 4.6MB/s eta 0:00:01\r\u001b[K     |█████████████▎                  | 430kB 4.6MB/s eta 0:00:01\r\u001b[K     |█████████████▌                  | 440kB 4.6MB/s eta 0:00:01\r\u001b[K     |█████████████▉                  | 450kB 4.6MB/s eta 0:00:01\r\u001b[K     |██████████████▏                 | 460kB 4.6MB/s eta 0:00:01\r\u001b[K     |██████████████▌                 | 471kB 4.6MB/s eta 0:00:01\r\u001b[K     |██████████████▉                 | 481kB 4.6MB/s eta 0:00:01\r\u001b[K     |███████████████▏                | 491kB 4.6MB/s eta 0:00:01\r\u001b[K     |███████████████▍                | 501kB 4.6MB/s eta 0:00:01\r\u001b[K     |███████████████▊                | 512kB 4.6MB/s eta 0:00:01\r\u001b[K     |████████████████                | 522kB 4.6MB/s eta 0:00:01\r\u001b[K     |████████████████▍               | 532kB 4.6MB/s eta 0:00:01\r\u001b[K     |████████████████▊               | 542kB 4.6MB/s eta 0:00:01\r\u001b[K     |█████████████████               | 552kB 4.6MB/s eta 0:00:01\r\u001b[K     |█████████████████▎              | 563kB 4.6MB/s eta 0:00:01\r\u001b[K     |█████████████████▋              | 573kB 4.6MB/s eta 0:00:01\r\u001b[K     |██████████████████              | 583kB 4.6MB/s eta 0:00:01\r\u001b[K     |██████████████████▎             | 593kB 4.6MB/s eta 0:00:01\r\u001b[K     |██████████████████▋             | 604kB 4.6MB/s eta 0:00:01\r\u001b[K     |███████████████████             | 614kB 4.6MB/s eta 0:00:01\r\u001b[K     |███████████████████▏            | 624kB 4.6MB/s eta 0:00:01\r\u001b[K     |███████████████████▌            | 634kB 4.6MB/s eta 0:00:01\r\u001b[K     |███████████████████▉            | 645kB 4.6MB/s eta 0:00:01\r\u001b[K     |████████████████████▏           | 655kB 4.6MB/s eta 0:00:01\r\u001b[K     |████████████████████▌           | 665kB 4.6MB/s eta 0:00:01\r\u001b[K     |████████████████████▉           | 675kB 4.6MB/s eta 0:00:01\r\u001b[K     |█████████████████████▏          | 686kB 4.6MB/s eta 0:00:01\r\u001b[K     |█████████████████████▍          | 696kB 4.6MB/s eta 0:00:01\r\u001b[K     |█████████████████████▊          | 706kB 4.6MB/s eta 0:00:01\r\u001b[K     |██████████████████████          | 716kB 4.6MB/s eta 0:00:01\r\u001b[K     |██████████████████████▍         | 727kB 4.6MB/s eta 0:00:01\r\u001b[K     |██████████████████████▊         | 737kB 4.6MB/s eta 0:00:01\r\u001b[K     |███████████████████████         | 747kB 4.6MB/s eta 0:00:01\r\u001b[K     |███████████████████████▎        | 757kB 4.6MB/s eta 0:00:01\r\u001b[K     |███████████████████████▋        | 768kB 4.6MB/s eta 0:00:01\r\u001b[K     |████████████████████████        | 778kB 4.6MB/s eta 0:00:01\r\u001b[K     |████████████████████████▎       | 788kB 4.6MB/s eta 0:00:01\r\u001b[K     |████████████████████████▋       | 798kB 4.6MB/s eta 0:00:01\r\u001b[K     |█████████████████████████       | 808kB 4.6MB/s eta 0:00:01\r\u001b[K     |█████████████████████████▏      | 819kB 4.6MB/s eta 0:00:01\r\u001b[K     |█████████████████████████▌      | 829kB 4.6MB/s eta 0:00:01\r\u001b[K     |█████████████████████████▉      | 839kB 4.6MB/s eta 0:00:01\r\u001b[K     |██████████████████████████▏     | 849kB 4.6MB/s eta 0:00:01\r\u001b[K     |██████████████████████████▌     | 860kB 4.6MB/s eta 0:00:01\r\u001b[K     |██████████████████████████▉     | 870kB 4.6MB/s eta 0:00:01\r\u001b[K     |███████████████████████████     | 880kB 4.6MB/s eta 0:00:01\r\u001b[K     |███████████████████████████▍    | 890kB 4.6MB/s eta 0:00:01\r\u001b[K     |███████████████████████████▊    | 901kB 4.6MB/s eta 0:00:01\r\u001b[K     |████████████████████████████    | 911kB 4.6MB/s eta 0:00:01\r\u001b[K     |████████████████████████████▍   | 921kB 4.6MB/s eta 0:00:01\r\u001b[K     |████████████████████████████▊   | 931kB 4.6MB/s eta 0:00:01\r\u001b[K     |█████████████████████████████   | 942kB 4.6MB/s eta 0:00:01\r\u001b[K     |█████████████████████████████▎  | 952kB 4.6MB/s eta 0:00:01\r\u001b[K     |█████████████████████████████▋  | 962kB 4.6MB/s eta 0:00:01\r\u001b[K     |██████████████████████████████  | 972kB 4.6MB/s eta 0:00:01\r\u001b[K     |██████████████████████████████▎ | 983kB 4.6MB/s eta 0:00:01\r\u001b[K     |██████████████████████████████▋ | 993kB 4.6MB/s eta 0:00:01\r\u001b[K     |██████████████████████████████▉ | 1.0MB 4.6MB/s eta 0:00:01\r\u001b[K     |███████████████████████████████▏| 1.0MB 4.6MB/s eta 0:00:01\r\u001b[K     |███████████████████████████████▌| 1.0MB 4.6MB/s eta 0:00:01\r\u001b[K     |███████████████████████████████▉| 1.0MB 4.6MB/s eta 0:00:01\r\u001b[K     |████████████████████████████████| 1.0MB 4.6MB/s \n",
            "\u001b[?25hInstalling collected packages: sentencepiece\n",
            "Successfully installed sentencepiece-0.1.85\n"
          ],
          "name": "stdout"
        }
      ]
    },
    {
      "cell_type": "code",
      "metadata": {
        "id": "gpKIXM6fqd7Z",
        "colab_type": "code",
        "colab": {}
      },
      "source": [
        "import sentencepiece as spm\n",
        "sp = spm.SentencePieceProcessor()"
      ],
      "execution_count": 0,
      "outputs": []
    },
    {
      "cell_type": "code",
      "metadata": {
        "id": "uOjhZ01BrHFg",
        "colab_type": "code",
        "outputId": "a1bf8336-92bc-4eca-c078-686ecc0507b2",
        "colab": {
          "base_uri": "https://localhost:8080/",
          "height": 34
        }
      },
      "source": [
        "lang"
      ],
      "execution_count": 8,
      "outputs": [
        {
          "output_type": "execute_result",
          "data": {
            "text/plain": [
              "'hi'"
            ]
          },
          "metadata": {
            "tags": []
          },
          "execution_count": 8
        }
      ]
    },
    {
      "cell_type": "code",
      "metadata": {
        "id": "QtJQq8pBqwif",
        "colab_type": "code",
        "colab": {}
      },
      "source": [
        "model_path = f'/content/hindi_lm_large.model'"
      ],
      "execution_count": 0,
      "outputs": []
    },
    {
      "cell_type": "code",
      "metadata": {
        "id": "qh7T_sZlq9-G",
        "colab_type": "code",
        "outputId": "75705d5e-4e5c-44d8-e97d-788f02df71f3",
        "colab": {
          "base_uri": "https://localhost:8080/",
          "height": 34
        }
      },
      "source": [
        "model_path"
      ],
      "execution_count": 10,
      "outputs": [
        {
          "output_type": "execute_result",
          "data": {
            "text/plain": [
              "'/content/hindi_lm_large.model'"
            ]
          },
          "metadata": {
            "tags": []
          },
          "execution_count": 10
        }
      ]
    },
    {
      "cell_type": "code",
      "metadata": {
        "id": "hHR6j2sHtOfC",
        "colab_type": "code",
        "outputId": "bd783bac-1860-4f64-9304-ea3616705e3b",
        "colab": {
          "base_uri": "https://localhost:8080/",
          "height": 34
        }
      },
      "source": [
        "sp.Load(str(model_path))"
      ],
      "execution_count": 11,
      "outputs": [
        {
          "output_type": "execute_result",
          "data": {
            "text/plain": [
              "True"
            ]
          },
          "metadata": {
            "tags": []
          },
          "execution_count": 11
        }
      ]
    },
    {
      "cell_type": "code",
      "metadata": {
        "id": "EjFw8VeU7pTd",
        "colab_type": "code",
        "colab": {}
      },
      "source": [
        "from indicnlp.tokenize import indic_tokenize"
      ],
      "execution_count": 0,
      "outputs": []
    },
    {
      "cell_type": "code",
      "metadata": {
        "id": "FYOm10V-8A_x",
        "colab_type": "code",
        "colab": {}
      },
      "source": [
        "indic_string='सुनो, कुछ आवाज़ आ रही है। फोन?'"
      ],
      "execution_count": 0,
      "outputs": []
    },
    {
      "cell_type": "code",
      "metadata": {
        "id": "BzkanvQc9Wnn",
        "colab_type": "code",
        "outputId": "d0585148-5957-4d6c-944a-7edeee7c30f5",
        "colab": {
          "base_uri": "https://localhost:8080/",
          "height": 34
        }
      },
      "source": [
        "indic_tokenize.trivial_tokenize(indic_string)"
      ],
      "execution_count": 0,
      "outputs": [
        {
          "output_type": "execute_result",
          "data": {
            "text/plain": [
              "['सुनो', ',', 'कुछ', 'आवाज़', 'आ', 'रही', 'है', '।', 'फोन', '?']"
            ]
          },
          "metadata": {
            "tags": []
          },
          "execution_count": 25
        }
      ]
    },
    {
      "cell_type": "code",
      "metadata": {
        "id": "JP83kfa_9jTc",
        "colab_type": "code",
        "colab": {}
      },
      "source": [
        "class HindiTokenizer(BaseTokenizer):\n",
        "    def __init__(self, lang:str):\n",
        "        self.lang = lang\n",
        "        self.sp = spm.SentencePieceProcessor()\n",
        "        self.sp.Load(model_path)\n",
        "        \n",
        "    def tokenizer(self, t:str) -> List[str]:\n",
        "        return self.sp.EncodeAsPieces(t)"
      ],
      "execution_count": 0,
      "outputs": []
    },
    {
      "cell_type": "code",
      "metadata": {
        "id": "eiIUgKhP1mCz",
        "colab_type": "code",
        "colab": {}
      },
      "source": [
        "tokenizer = Tokenizer(tok_func=HindiTokenizer,lang=\"Hi\")"
      ],
      "execution_count": 0,
      "outputs": []
    },
    {
      "cell_type": "code",
      "metadata": {
        "id": "yrKyyVDe13w3",
        "colab_type": "code",
        "colab": {}
      },
      "source": [
        "sp = spm.SentencePieceProcessor()\n",
        "sp.Load(str(\"hindi_lm_large.model\"))\n",
        "itos = [sp.IdToPiece(int(i)) for i in range(30000)]"
      ],
      "execution_count": 0,
      "outputs": []
    },
    {
      "cell_type": "code",
      "metadata": {
        "id": "MMjNwydZ17Ha",
        "colab_type": "code",
        "colab": {}
      },
      "source": [
        "hindi_vocab = Vocab(itos)"
      ],
      "execution_count": 0,
      "outputs": []
    },
    {
      "cell_type": "code",
      "metadata": {
        "id": "opAE1UMFUYel",
        "colab_type": "code",
        "outputId": "77acbcdc-4933-457b-f35b-2ef2e4213688",
        "colab": {
          "base_uri": "https://localhost:8080/",
          "height": 68
        }
      },
      "source": [
        "get_wiki(path,lang)"
      ],
      "execution_count": 15,
      "outputs": [
        {
          "output_type": "stream",
          "text": [
            "downloading...\n"
          ],
          "name": "stdout"
        },
        {
          "output_type": "display_data",
          "data": {
            "text/html": [
              ""
            ],
            "text/plain": [
              "<IPython.core.display.HTML object>"
            ]
          },
          "metadata": {
            "tags": []
          }
        },
        {
          "output_type": "stream",
          "text": [
            "unzipping...\n",
            "extracting...\n"
          ],
          "name": "stdout"
        }
      ]
    },
    {
      "cell_type": "code",
      "metadata": {
        "id": "emsfvWi5UkDr",
        "colab_type": "code",
        "colab": {}
      },
      "source": [
        "path = data_path/name\n",
        "path.mkdir(exist_ok=True, parents=True)"
      ],
      "execution_count": 0,
      "outputs": []
    },
    {
      "cell_type": "code",
      "metadata": {
        "id": "rxTHf8AZ1GRn",
        "colab_type": "code",
        "colab": {
          "base_uri": "https://localhost:8080/",
          "height": 153
        },
        "outputId": "f414d696-8d56-485a-8dcc-3ae1506887a8"
      },
      "source": [
        "dest = split_wiki(path,lang)"
      ],
      "execution_count": 16,
      "outputs": [
        {
          "output_type": "stream",
          "text": [
            "0\n",
            "100000\n",
            "200000\n",
            "300000\n",
            "400000\n",
            "500000\n",
            "600000\n",
            "700000\n"
          ],
          "name": "stdout"
        }
      ]
    },
    {
      "cell_type": "code",
      "metadata": {
        "id": "LoRMSpqi2HeU",
        "colab_type": "code",
        "colab": {}
      },
      "source": [
        "??TextList"
      ],
      "execution_count": 0,
      "outputs": []
    },
    {
      "cell_type": "code",
      "metadata": {
        "id": "IbcFAiOs2QIU",
        "colab_type": "code",
        "colab": {}
      },
      "source": [
        "processor = [TokenizeProcessor(tokenizer=tokenizer, chunksize=10000, mark_fields=False),\n",
        "            NumericalizeProcessor(vocab=hindi_vocab, max_vocab=30000, min_freq=1)]"
      ],
      "execution_count": 0,
      "outputs": []
    },
    {
      "cell_type": "code",
      "metadata": {
        "id": "6vwvv_bB4Ha7",
        "colab_type": "code",
        "colab": {}
      },
      "source": [
        "?? SPProcessor"
      ],
      "execution_count": 0,
      "outputs": []
    },
    {
      "cell_type": "code",
      "metadata": {
        "id": "EavFmd7_1O53",
        "colab_type": "code",
        "colab": {
          "base_uri": "https://localhost:8080/",
          "height": 378
        },
        "outputId": "34540ad3-fbe6-4041-eb62-0be778822248"
      },
      "source": [
        "data = (TextList.from_folder(dest,processor=[OpenFileProcessor(), SPProcessor(vocab_sz=30000)])\n",
        "        .split_by_rand_pct(0.1, seed=42)\n",
        "        .label_for_lm()\n",
        "        .databunch(tokenizer=tokenizer,vocab=hindi_vocab,bs=bs, num_workers=1))"
      ],
      "execution_count": 32,
      "outputs": [
        {
          "output_type": "display_data",
          "data": {
            "text/html": [
              ""
            ],
            "text/plain": [
              "<IPython.core.display.HTML object>"
            ]
          },
          "metadata": {
            "tags": []
          }
        },
        {
          "output_type": "error",
          "ename": "FileNotFoundError",
          "evalue": "ignored",
          "traceback": [
            "\u001b[0;31m---------------------------------------------------------------------------\u001b[0m",
            "\u001b[0;31mFileNotFoundError\u001b[0m                         Traceback (most recent call last)",
            "\u001b[0;32m<ipython-input-32-7cdc94f623bc>\u001b[0m in \u001b[0;36m<module>\u001b[0;34m()\u001b[0m\n\u001b[1;32m      1\u001b[0m data = (TextList.from_folder(dest,processor=[OpenFileProcessor(), SPProcessor(vocab_sz=30000)])\n\u001b[0;32m----> 2\u001b[0;31m         \u001b[0;34m.\u001b[0m\u001b[0msplit_by_rand_pct\u001b[0m\u001b[0;34m(\u001b[0m\u001b[0;36m0.1\u001b[0m\u001b[0;34m,\u001b[0m \u001b[0mseed\u001b[0m\u001b[0;34m=\u001b[0m\u001b[0;36m42\u001b[0m\u001b[0;34m)\u001b[0m\u001b[0;34m\u001b[0m\u001b[0;34m\u001b[0m\u001b[0m\n\u001b[0m\u001b[1;32m      3\u001b[0m         \u001b[0;34m.\u001b[0m\u001b[0mlabel_for_lm\u001b[0m\u001b[0;34m(\u001b[0m\u001b[0;34m)\u001b[0m\u001b[0;34m\u001b[0m\u001b[0;34m\u001b[0m\u001b[0m\n\u001b[1;32m      4\u001b[0m         .databunch(tokenizer=tokenizer,vocab=hindi_vocab,bs=bs, num_workers=1))\n",
            "\u001b[0;32m/usr/local/lib/python3.6/dist-packages/fastai/data_block.py\u001b[0m in \u001b[0;36m_inner\u001b[0;34m(*args, **kwargs)\u001b[0m\n\u001b[1;32m    478\u001b[0m             \u001b[0mself\u001b[0m\u001b[0;34m.\u001b[0m\u001b[0mvalid\u001b[0m \u001b[0;34m=\u001b[0m \u001b[0mfv\u001b[0m\u001b[0;34m(\u001b[0m\u001b[0;34m*\u001b[0m\u001b[0margs\u001b[0m\u001b[0;34m,\u001b[0m \u001b[0mfrom_item_lists\u001b[0m\u001b[0;34m=\u001b[0m\u001b[0;32mTrue\u001b[0m\u001b[0;34m,\u001b[0m \u001b[0;34m**\u001b[0m\u001b[0mkwargs\u001b[0m\u001b[0;34m)\u001b[0m\u001b[0;34m\u001b[0m\u001b[0;34m\u001b[0m\u001b[0m\n\u001b[1;32m    479\u001b[0m             \u001b[0mself\u001b[0m\u001b[0;34m.\u001b[0m\u001b[0m__class__\u001b[0m \u001b[0;34m=\u001b[0m \u001b[0mLabelLists\u001b[0m\u001b[0;34m\u001b[0m\u001b[0;34m\u001b[0m\u001b[0m\n\u001b[0;32m--> 480\u001b[0;31m             \u001b[0mself\u001b[0m\u001b[0;34m.\u001b[0m\u001b[0mprocess\u001b[0m\u001b[0;34m(\u001b[0m\u001b[0;34m)\u001b[0m\u001b[0;34m\u001b[0m\u001b[0;34m\u001b[0m\u001b[0m\n\u001b[0m\u001b[1;32m    481\u001b[0m             \u001b[0;32mreturn\u001b[0m \u001b[0mself\u001b[0m\u001b[0;34m\u001b[0m\u001b[0;34m\u001b[0m\u001b[0m\n\u001b[1;32m    482\u001b[0m         \u001b[0;32mreturn\u001b[0m \u001b[0m_inner\u001b[0m\u001b[0;34m\u001b[0m\u001b[0;34m\u001b[0m\u001b[0m\n",
            "\u001b[0;32m/usr/local/lib/python3.6/dist-packages/fastai/data_block.py\u001b[0m in \u001b[0;36mprocess\u001b[0;34m(self)\u001b[0m\n\u001b[1;32m    532\u001b[0m         \u001b[0;34m\"Process the inner datasets.\"\u001b[0m\u001b[0;34m\u001b[0m\u001b[0;34m\u001b[0m\u001b[0m\n\u001b[1;32m    533\u001b[0m         \u001b[0mxp\u001b[0m\u001b[0;34m,\u001b[0m\u001b[0myp\u001b[0m \u001b[0;34m=\u001b[0m \u001b[0mself\u001b[0m\u001b[0;34m.\u001b[0m\u001b[0mget_processors\u001b[0m\u001b[0;34m(\u001b[0m\u001b[0;34m)\u001b[0m\u001b[0;34m\u001b[0m\u001b[0;34m\u001b[0m\u001b[0m\n\u001b[0;32m--> 534\u001b[0;31m         \u001b[0;32mfor\u001b[0m \u001b[0mds\u001b[0m\u001b[0;34m,\u001b[0m\u001b[0mn\u001b[0m \u001b[0;32min\u001b[0m \u001b[0mzip\u001b[0m\u001b[0;34m(\u001b[0m\u001b[0mself\u001b[0m\u001b[0;34m.\u001b[0m\u001b[0mlists\u001b[0m\u001b[0;34m,\u001b[0m \u001b[0;34m[\u001b[0m\u001b[0;34m'train'\u001b[0m\u001b[0;34m,\u001b[0m\u001b[0;34m'valid'\u001b[0m\u001b[0;34m,\u001b[0m\u001b[0;34m'test'\u001b[0m\u001b[0;34m]\u001b[0m\u001b[0;34m)\u001b[0m\u001b[0;34m:\u001b[0m \u001b[0mds\u001b[0m\u001b[0;34m.\u001b[0m\u001b[0mprocess\u001b[0m\u001b[0;34m(\u001b[0m\u001b[0mxp\u001b[0m\u001b[0;34m,\u001b[0m \u001b[0myp\u001b[0m\u001b[0;34m,\u001b[0m \u001b[0mname\u001b[0m\u001b[0;34m=\u001b[0m\u001b[0mn\u001b[0m\u001b[0;34m)\u001b[0m\u001b[0;34m\u001b[0m\u001b[0;34m\u001b[0m\u001b[0m\n\u001b[0m\u001b[1;32m    535\u001b[0m         \u001b[0;31m#progress_bar clear the outputs so in some case warnings issued during processing disappear.\u001b[0m\u001b[0;34m\u001b[0m\u001b[0;34m\u001b[0m\u001b[0;34m\u001b[0m\u001b[0m\n\u001b[1;32m    536\u001b[0m         \u001b[0;32mfor\u001b[0m \u001b[0mds\u001b[0m \u001b[0;32min\u001b[0m \u001b[0mself\u001b[0m\u001b[0;34m.\u001b[0m\u001b[0mlists\u001b[0m\u001b[0;34m:\u001b[0m\u001b[0;34m\u001b[0m\u001b[0;34m\u001b[0m\u001b[0m\n",
            "\u001b[0;32m/usr/local/lib/python3.6/dist-packages/fastai/data_block.py\u001b[0m in \u001b[0;36mprocess\u001b[0;34m(self, xp, yp, name, max_warn_items)\u001b[0m\n\u001b[1;32m    712\u001b[0m                     \u001b[0mp\u001b[0m\u001b[0;34m.\u001b[0m\u001b[0mwarns\u001b[0m \u001b[0;34m=\u001b[0m \u001b[0;34m[\u001b[0m\u001b[0;34m]\u001b[0m\u001b[0;34m\u001b[0m\u001b[0;34m\u001b[0m\u001b[0m\n\u001b[1;32m    713\u001b[0m                 \u001b[0mself\u001b[0m\u001b[0;34m.\u001b[0m\u001b[0mx\u001b[0m\u001b[0;34m,\u001b[0m\u001b[0mself\u001b[0m\u001b[0;34m.\u001b[0m\u001b[0my\u001b[0m \u001b[0;34m=\u001b[0m \u001b[0mself\u001b[0m\u001b[0;34m.\u001b[0m\u001b[0mx\u001b[0m\u001b[0;34m[\u001b[0m\u001b[0;34m~\u001b[0m\u001b[0mfilt\u001b[0m\u001b[0;34m]\u001b[0m\u001b[0;34m,\u001b[0m\u001b[0mself\u001b[0m\u001b[0;34m.\u001b[0m\u001b[0my\u001b[0m\u001b[0;34m[\u001b[0m\u001b[0;34m~\u001b[0m\u001b[0mfilt\u001b[0m\u001b[0;34m]\u001b[0m\u001b[0;34m\u001b[0m\u001b[0;34m\u001b[0m\u001b[0m\n\u001b[0;32m--> 714\u001b[0;31m         \u001b[0mself\u001b[0m\u001b[0;34m.\u001b[0m\u001b[0mx\u001b[0m\u001b[0;34m.\u001b[0m\u001b[0mprocess\u001b[0m\u001b[0;34m(\u001b[0m\u001b[0mxp\u001b[0m\u001b[0;34m)\u001b[0m\u001b[0;34m\u001b[0m\u001b[0;34m\u001b[0m\u001b[0m\n\u001b[0m\u001b[1;32m    715\u001b[0m         \u001b[0;32mreturn\u001b[0m \u001b[0mself\u001b[0m\u001b[0;34m\u001b[0m\u001b[0;34m\u001b[0m\u001b[0m\n\u001b[1;32m    716\u001b[0m \u001b[0;34m\u001b[0m\u001b[0m\n",
            "\u001b[0;32m/usr/local/lib/python3.6/dist-packages/fastai/data_block.py\u001b[0m in \u001b[0;36mprocess\u001b[0;34m(self, processor)\u001b[0m\n\u001b[1;32m     82\u001b[0m         \u001b[0;32mif\u001b[0m \u001b[0mprocessor\u001b[0m \u001b[0;32mis\u001b[0m \u001b[0;32mnot\u001b[0m \u001b[0;32mNone\u001b[0m\u001b[0;34m:\u001b[0m \u001b[0mself\u001b[0m\u001b[0;34m.\u001b[0m\u001b[0mprocessor\u001b[0m \u001b[0;34m=\u001b[0m \u001b[0mprocessor\u001b[0m\u001b[0;34m\u001b[0m\u001b[0;34m\u001b[0m\u001b[0m\n\u001b[1;32m     83\u001b[0m         \u001b[0mself\u001b[0m\u001b[0;34m.\u001b[0m\u001b[0mprocessor\u001b[0m \u001b[0;34m=\u001b[0m \u001b[0mlistify\u001b[0m\u001b[0;34m(\u001b[0m\u001b[0mself\u001b[0m\u001b[0;34m.\u001b[0m\u001b[0mprocessor\u001b[0m\u001b[0;34m)\u001b[0m\u001b[0;34m\u001b[0m\u001b[0;34m\u001b[0m\u001b[0m\n\u001b[0;32m---> 84\u001b[0;31m         \u001b[0;32mfor\u001b[0m \u001b[0mp\u001b[0m \u001b[0;32min\u001b[0m \u001b[0mself\u001b[0m\u001b[0;34m.\u001b[0m\u001b[0mprocessor\u001b[0m\u001b[0;34m:\u001b[0m \u001b[0mp\u001b[0m\u001b[0;34m.\u001b[0m\u001b[0mprocess\u001b[0m\u001b[0;34m(\u001b[0m\u001b[0mself\u001b[0m\u001b[0;34m)\u001b[0m\u001b[0;34m\u001b[0m\u001b[0;34m\u001b[0m\u001b[0m\n\u001b[0m\u001b[1;32m     85\u001b[0m         \u001b[0;32mreturn\u001b[0m \u001b[0mself\u001b[0m\u001b[0;34m\u001b[0m\u001b[0;34m\u001b[0m\u001b[0m\n\u001b[1;32m     86\u001b[0m \u001b[0;34m\u001b[0m\u001b[0m\n",
            "\u001b[0;32m/usr/local/lib/python3.6/dist-packages/fastai/text/data.py\u001b[0m in \u001b[0;36mprocess\u001b[0;34m(self, ds)\u001b[0m\n\u001b[1;32m    466\u001b[0m             \u001b[0mself\u001b[0m\u001b[0;34m.\u001b[0m\u001b[0msp_model\u001b[0m\u001b[0;34m,\u001b[0m\u001b[0mself\u001b[0m\u001b[0;34m.\u001b[0m\u001b[0msp_vocab\u001b[0m \u001b[0;34m=\u001b[0m \u001b[0mcache_dir\u001b[0m\u001b[0;34m/\u001b[0m\u001b[0;34m'spm.model'\u001b[0m\u001b[0;34m,\u001b[0m\u001b[0mcache_dir\u001b[0m\u001b[0;34m/\u001b[0m\u001b[0;34m'spm.vocab'\u001b[0m\u001b[0;34m\u001b[0m\u001b[0;34m\u001b[0m\u001b[0m\n\u001b[1;32m    467\u001b[0m         \u001b[0;32mif\u001b[0m \u001b[0;32mnot\u001b[0m \u001b[0mgetattr\u001b[0m\u001b[0;34m(\u001b[0m\u001b[0mself\u001b[0m\u001b[0;34m,\u001b[0m \u001b[0;34m'vocab'\u001b[0m\u001b[0;34m,\u001b[0m \u001b[0;32mFalse\u001b[0m\u001b[0;34m)\u001b[0m\u001b[0;34m:\u001b[0m\u001b[0;34m\u001b[0m\u001b[0;34m\u001b[0m\u001b[0m\n\u001b[0;32m--> 468\u001b[0;31m             \u001b[0;32mwith\u001b[0m \u001b[0mopen\u001b[0m\u001b[0;34m(\u001b[0m\u001b[0mself\u001b[0m\u001b[0;34m.\u001b[0m\u001b[0msp_vocab\u001b[0m\u001b[0;34m,\u001b[0m \u001b[0;34m'r'\u001b[0m\u001b[0;34m,\u001b[0m \u001b[0mencoding\u001b[0m\u001b[0;34m=\u001b[0m\u001b[0mself\u001b[0m\u001b[0;34m.\u001b[0m\u001b[0menc\u001b[0m\u001b[0;34m)\u001b[0m \u001b[0;32mas\u001b[0m \u001b[0mf\u001b[0m\u001b[0;34m:\u001b[0m \u001b[0mself\u001b[0m\u001b[0;34m.\u001b[0m\u001b[0mvocab\u001b[0m \u001b[0;34m=\u001b[0m \u001b[0mVocab\u001b[0m\u001b[0;34m(\u001b[0m\u001b[0;34m[\u001b[0m\u001b[0mline\u001b[0m\u001b[0;34m.\u001b[0m\u001b[0msplit\u001b[0m\u001b[0;34m(\u001b[0m\u001b[0;34m'\\t'\u001b[0m\u001b[0;34m)\u001b[0m\u001b[0;34m[\u001b[0m\u001b[0;36m0\u001b[0m\u001b[0;34m]\u001b[0m \u001b[0;32mfor\u001b[0m \u001b[0mline\u001b[0m \u001b[0;32min\u001b[0m \u001b[0mf\u001b[0m\u001b[0;34m.\u001b[0m\u001b[0mreadlines\u001b[0m\u001b[0;34m(\u001b[0m\u001b[0;34m)\u001b[0m\u001b[0;34m]\u001b[0m\u001b[0;34m)\u001b[0m\u001b[0;34m\u001b[0m\u001b[0;34m\u001b[0m\u001b[0m\n\u001b[0m\u001b[1;32m    469\u001b[0m         \u001b[0;32mif\u001b[0m \u001b[0mself\u001b[0m\u001b[0;34m.\u001b[0m\u001b[0mn_cpus\u001b[0m \u001b[0;34m<=\u001b[0m \u001b[0;36m1\u001b[0m\u001b[0;34m:\u001b[0m \u001b[0mds\u001b[0m\u001b[0;34m.\u001b[0m\u001b[0mitems\u001b[0m \u001b[0;34m=\u001b[0m \u001b[0mself\u001b[0m\u001b[0;34m.\u001b[0m\u001b[0m_encode_batch\u001b[0m\u001b[0;34m(\u001b[0m\u001b[0mds\u001b[0m\u001b[0;34m.\u001b[0m\u001b[0mitems\u001b[0m\u001b[0;34m)\u001b[0m\u001b[0;34m\u001b[0m\u001b[0;34m\u001b[0m\u001b[0m\n\u001b[1;32m    470\u001b[0m         \u001b[0;32melse\u001b[0m\u001b[0;34m:\u001b[0m\u001b[0;34m\u001b[0m\u001b[0;34m\u001b[0m\u001b[0m\n",
            "\u001b[0;31mFileNotFoundError\u001b[0m: [Errno 2] No such file or directory: '/root/.fastai/data/hiwiki/docs/tmp/spm/spm.vocab'"
          ]
        }
      ]
    },
    {
      "cell_type": "code",
      "metadata": {
        "id": "5ee2VjXD5N0v",
        "colab_type": "code",
        "colab": {
          "base_uri": "https://localhost:8080/",
          "height": 34
        },
        "outputId": "ed316f12-4957-4c09-b0ed-f792ea4e5e44"
      },
      "source": [
        "dest"
      ],
      "execution_count": 34,
      "outputs": [
        {
          "output_type": "execute_result",
          "data": {
            "text/plain": [
              "PosixPath('/root/.fastai/data/hiwiki/docs')"
            ]
          },
          "metadata": {
            "tags": []
          },
          "execution_count": 34
        }
      ]
    },
    {
      "cell_type": "code",
      "metadata": {
        "id": "LDB2UMo352U0",
        "colab_type": "code",
        "colab": {
          "base_uri": "https://localhost:8080/",
          "height": 51
        },
        "outputId": "a1b98194-312c-4159-faca-b7d41fa6f22e"
      },
      "source": [
        "f = []\n",
        "file_list = []\n",
        "for (dirpath, dirnames, filenames) in os.walk(dest):\n",
        "    print(len(filenames))\n",
        "    print(dest)\n",
        "    file_list.extend(filenames)\n",
        "    for file in filenames:\n",
        "        with open(f\"{dest}/{file}\",\"r\") as read_file:\n",
        "            read = read_file.read()\n",
        "            f.append(read)\n",
        "    \n",
        "    break"
      ],
      "execution_count": 40,
      "outputs": [
        {
          "output_type": "stream",
          "text": [
            "17963\n",
            "/root/.fastai/data/hiwiki/docs\n"
          ],
          "name": "stdout"
        }
      ]
    },
    {
      "cell_type": "code",
      "metadata": {
        "id": "n8DsVMlk6Af9",
        "colab_type": "code",
        "colab": {
          "base_uri": "https://localhost:8080/",
          "height": 34
        },
        "outputId": "96b07146-b64c-46d0-9623-d9c7b559400f"
      },
      "source": [
        "len(f)"
      ],
      "execution_count": 41,
      "outputs": [
        {
          "output_type": "execute_result",
          "data": {
            "text/plain": [
              "17963"
            ]
          },
          "metadata": {
            "tags": []
          },
          "execution_count": 41
        }
      ]
    },
    {
      "cell_type": "code",
      "metadata": {
        "id": "VV_G41eS6IyU",
        "colab_type": "code",
        "colab": {
          "base_uri": "https://localhost:8080/",
          "height": 54
        },
        "outputId": "3b7d632c-3d37-4ffc-dc24-cb452f020b67"
      },
      "source": [
        "f[0]"
      ],
      "execution_count": 53,
      "outputs": [
        {
          "output_type": "execute_result",
          "data": {
            "text/plain": [
              "\"प्रोकैरियोटिक त्रान्स्लेशनप्रोकेरियोट्स वह जन्तु होते हैं जिन में अलग नाभिक और झिल्ली बाध्या ओरगेनेल्ले नहीं होते हैं। प्रोकेरियोटिक त्रन्स्लेशन मैं तीन विभाजन पाये जाते हैं। १- इनीशीएशन (दीक्षा)२-एलोंगेशन३- समाप्तिप्रोकेरियोतटिक त्रन्सलेशन के शुरुवात के लिये दो घटकों की आवश्यकता होती हैं और वह हैं- दो राइबोसोमल सब युनिट (५०एस और ३० एस सब युनिट),परिपक्क एम आरएनए जिसका त्रन्सलेशन होने जा रहा हैं, एन- फोरमाइलमिथियोनिन से प्रभारित टी-आरएनए, ऊर्जा के एक स्रोत के रूप में ग्वानोसिन त्रिकोणीय फॉस्फेट (जिटीपि), प्रोकेरियोटिक बढ़ाव कारक ईएफ-P और तीन प्रोकेरियोटिक इनीशीएशन कारक आइ एफ-१, आइ एफ-२, आइ एफ-३ जो जटिल दीक्षा का विधान सभा में मदद करता हैं। तंत्र में बदलाव प्रत्याशित हो सकते हैं।ए साइट, पी साइट, इ साईट : : राइबोसोम तीन सक्रिय स्थलों की है। ए साइट ( अमीनोएसिल टी-आरएनए को छोड़कर जो पी साइट में प्रवेश करत हैं)। पी साइट वो जगह हैं जहाँ पेप्टिडाइल टी-आरएनए, का गठन राइबोसोम मैं होता हैं, और यह बढ़ रही पेप्टाइड श्रृंखला के लिए अपनी अमीनो एसिड देने है के बाद अब अनचारज्ड टी-आरएनए के बाहर निकलने के साइट है जो ई साइट हैं।एक दीक्षा साइट (आमतौर पर एक एयूजी कोडोन) के चयन ३० एस सबयूनिट और एम आरएनए टेम्पलेट के बीच बातचीत पर निर्भर करता है। ३०एस सबयूनिट एयूजी दीक्षा कोडोन के अपस्ट्रीम एक प्यूरीन युक्त क्षेत्र (शाइन-डालगारनो अनुक्रम) पर एम आरएनए टेम्पलेट को बांधता है। शाइन-डालगारनो अनुक्रम ३०एस सबयूनिट के -१६ आर आरएनए घटक पर एक पिरिमिडिन समृद्ध क्षेत्र के लिए पूरक है। यह क्रम विकासवादी रूप से संरक्षित हैं और आज हम जानते हैं माईक्रोबियल दुनिया में एक प्रमुख भूमिका निभाता है। पॉलीपेप्टाइड श्रृंखला के बढ़ाव बढ़ रही श्रृंखला के कार्बाक्सिल अंत वाली बढाव श्रुंखला में अमीनो एसिड शामिल है। बढ़ रही प्रोटीन बड़े सबयूनिट में पॉलीपेप्टाइड बाहर निकलने के लिए सुरंग के माध्यम से राइबोसोम बाहर निकालता है। एफ मेट-टिआरएनए नई अमीनोएसिल-टिआरएनए बाध्य करने के लिए एक साइट खोलता है जो एक गठनात्मक परिवर्तन के कारण, पी साइट में प्रवेश करती है जब बढ़ाव शुरू होता है। बढ़ाव कारक-तू (एफई-टू), एक छोटे से जिटिपेस की मदद से बंधन होता हैं। उचित टिआरएनए के तेजी से और सही मान्यता के लिए, राइबोसोम बड़े गठनात्मक परिवर्तन (गठनात्मक प्रूफरीडिंग) का इस्तेमाल करता है। अब पी साइट प्रोटीन की पेप्टाइड श्रृंखला की शुरुआत इनकोडिंग के लिए और ए साइट पेप्टाइड श्रृंखला के लिए जोड़ने के लिए अगले एमिनो एसिड शामिल हैं। पी साइट में टिआरएनए जुड़ा बढ रही पॉलीपेप्टाइड पी साइट में टिआरएनए से अलग है और एक पेप्टाइड बंधन पॉलीपेप्टाइड के अंतिम अमीनो एसिड और अभी भी एक साइट में टिआरएनए से जुड़ी अमीनो एसिड के बीच बनाई है। इसे पेप्टाइड बंधन गठन के रूप में जाना जाता है इस प्रक्रिया, (५० एस राइबोसोमल सबयूनिट में २३ एस राइबोसोमल आरएनए शामिल हैं)। यह एक राइबोज़ैम द्वारा उत्प्रेरित हों रहा हैं। पी साइट (बिना कोई एमिनो एसिड वाले टिआरएनए के साथ ) एक बिना चर्ज़ वाला टिआरएनए हैं, जबकि, अब ए साइट में नवगठित पेप्टाइड है। टिआरएनए द्वीपेप्टाइड और पूरे विधानसभा के रूप में जाना जाता है एक साइट जाहाँ नवगठित पेप्टाइड को द्वीपेप्टिडाइल-टिआरएनए कहा जाता है। त्रानस्लेशन मशीनरी काम करता अपेक्षाकृत धीरे डीएनए प्रतिकृति को उत्प्रेरित करने वाले एंजाइम सिस्टम की तुलना में। बैक्टीरियल रिप्लिसोम प्रति सेकंड १००० न्यूक्लियोटाइड की दर से डीएनए सिथेसाइज़ होत हैं जबकि प्रोकीर्योट्स में प्रोटीन, प्रति सेकंड केवल १८ अमीनो एसिड के अवशेष की दर से संश्लेषित कर रहे हैं। दर में यह अंतर है, भाग में, न्यूक्लिक एसिड बनाने के लिए न्यूक्लियोटाइड के चार प्रकार पोलिमेराइज़िंग और प्रोटीन बनाने के लिए अमीनो एसिड के २० प्रकार के पोलिमेराइज़ेशन के बीच के अंतर को दर्शाता है। परीक्षण और गलत अमीनोएसिल-टिआरएनए अणु खारिज समय लगता है और प्रोटीन संश्लेषण धीमा कर देत है। बैक्टीरिया में अनुवाद दीक्षा एक एमाअरएनए के ५' अंत संश्लेषित है, और अनुवाद और प्रतिलेखन मिलकर कर रहे हैं। प्रतिलेखन और त्रानस्लेशन सेल (नाभिक और कोशिका द्रव्य) के अलग अलग डिब्बों में किया जाता है, क्योंकि यह यूकेरियोट्स में संभव नहीं है। तीन समाप्ति कोडोन से एक एक साइट में चलता रहता है जब समापन होता है, ये कोडोन किसी टिआरएनए द्वारा मान्यता प्राप्त नहीं कर रहे हैं। इसके बजाय, वे रिहाई कारकों, अर्थात् (युएए और युएजि कोडोन रोक पहचानने वाले कोडोन हैं) आरएफ १ या आरएफ २ नामक प्रोटीन द्वारा मान्यता प्राप्त हैं। इन कारकों में एस्टर बांड की हैड्रोलैसिस और राइबोसोम से नए संश्लेषित प्रोटीन की रिहाई का ट्रगर होता हैं एक तीसरा रिहाई कारक आरएफ-३ समाप्ति प्रक्रिया के अंत में आरएफ -1 और आरएफ-2 को उत्प्रेरित करता हैं।</doc>\""
            ]
          },
          "metadata": {
            "tags": []
          },
          "execution_count": 53
        }
      ]
    },
    {
      "cell_type": "code",
      "metadata": {
        "id": "lLzAJxJp6RSd",
        "colab_type": "code",
        "colab": {}
      },
      "source": [
        "train_df = pd.DataFrame({\"articles\":np.array(f,dtype=np.object)})"
      ],
      "execution_count": 0,
      "outputs": []
    },
    {
      "cell_type": "code",
      "metadata": {
        "id": "Kkd9sDne6W2n",
        "colab_type": "code",
        "colab": {
          "base_uri": "https://localhost:8080/",
          "height": 204
        },
        "outputId": "549fb406-37d7-4128-bbfa-53f152eb957f"
      },
      "source": [
        "train_df.head()"
      ],
      "execution_count": 55,
      "outputs": [
        {
          "output_type": "execute_result",
          "data": {
            "text/html": [
              "<div>\n",
              "<style scoped>\n",
              "    .dataframe tbody tr th:only-of-type {\n",
              "        vertical-align: middle;\n",
              "    }\n",
              "\n",
              "    .dataframe tbody tr th {\n",
              "        vertical-align: top;\n",
              "    }\n",
              "\n",
              "    .dataframe thead th {\n",
              "        text-align: right;\n",
              "    }\n",
              "</style>\n",
              "<table border=\"1\" class=\"dataframe\">\n",
              "  <thead>\n",
              "    <tr style=\"text-align: right;\">\n",
              "      <th></th>\n",
              "      <th>articles</th>\n",
              "    </tr>\n",
              "  </thead>\n",
              "  <tbody>\n",
              "    <tr>\n",
              "      <th>0</th>\n",
              "      <td>प्रोकैरियोटिक त्रान्स्लेशनप्रोकेरियोट्स वह जन्...</td>\n",
              "    </tr>\n",
              "    <tr>\n",
              "      <th>1</th>\n",
              "      <td>भू-चुबंकी प्रेरक दिक्सूचकभू-चुबंकी प्रेरक दिक्...</td>\n",
              "    </tr>\n",
              "    <tr>\n",
              "      <th>2</th>\n",
              "      <td>लोकगीत (हिन्दी)वर्तमान हिंदीभाषी क्षेत्र प्राच...</td>\n",
              "    </tr>\n",
              "    <tr>\n",
              "      <th>3</th>\n",
              "      <td>लाला हरदयाललाला हरदयाल (१४ अक्टूबर १८८४, दिल्ल...</td>\n",
              "    </tr>\n",
              "    <tr>\n",
              "      <th>4</th>\n",
              "      <td>बराकर नदीबराकर नदी () () पुर्वी भारत में दामोद...</td>\n",
              "    </tr>\n",
              "  </tbody>\n",
              "</table>\n",
              "</div>"
            ],
            "text/plain": [
              "                                            articles\n",
              "0  प्रोकैरियोटिक त्रान्स्लेशनप्रोकेरियोट्स वह जन्...\n",
              "1  भू-चुबंकी प्रेरक दिक्सूचकभू-चुबंकी प्रेरक दिक्...\n",
              "2  लोकगीत (हिन्दी)वर्तमान हिंदीभाषी क्षेत्र प्राच...\n",
              "3  लाला हरदयाललाला हरदयाल (१४ अक्टूबर १८८४, दिल्ल...\n",
              "4  बराकर नदीबराकर नदी () () पुर्वी भारत में दामोद..."
            ]
          },
          "metadata": {
            "tags": []
          },
          "execution_count": 55
        }
      ]
    },
    {
      "cell_type": "code",
      "metadata": {
        "id": "qi4cIIFT6GG3",
        "colab_type": "code",
        "colab": {}
      },
      "source": [
        "f = [name.replace(\"\\n\", \" \") for name in f]"
      ],
      "execution_count": 0,
      "outputs": []
    },
    {
      "cell_type": "code",
      "metadata": {
        "id": "bHgS_Spo5lAK",
        "colab_type": "code",
        "colab": {
          "base_uri": "https://localhost:8080/",
          "height": 102
        },
        "outputId": "47cd81bb-ddf7-449d-b02f-30e82eb67fb3"
      },
      "source": [
        "dest.ls()[:5]"
      ],
      "execution_count": 49,
      "outputs": [
        {
          "output_type": "execute_result",
          "data": {
            "text/plain": [
              "[PosixPath('/root/.fastai/data/hiwiki/docs/प्रोकैरियोटिक त्रान्स्लेशन.txt'),\n",
              " PosixPath('/root/.fastai/data/hiwiki/docs/भू-चुबंकी प्रेरक दिक्सूचक.txt'),\n",
              " PosixPath('/root/.fastai/data/hiwiki/docs/लोकगीत (हिन्दी).txt'),\n",
              " PosixPath('/root/.fastai/data/hiwiki/docs/लाला हरदयाल.txt'),\n",
              " PosixPath('/root/.fastai/data/hiwiki/docs/बराकर नदी.txt')]"
            ]
          },
          "metadata": {
            "tags": []
          },
          "execution_count": 49
        }
      ]
    },
    {
      "cell_type": "code",
      "metadata": {
        "id": "AumMPhjc8A6d",
        "colab_type": "code",
        "colab": {}
      },
      "source": [
        "from sklearn.model_selection import train_test_split\n",
        "X_train, y_train = train_test_split(train_df, test_size=0.2)"
      ],
      "execution_count": 0,
      "outputs": []
    },
    {
      "cell_type": "code",
      "metadata": {
        "id": "lZ3Wj5qG8b1s",
        "colab_type": "code",
        "colab": {
          "base_uri": "https://localhost:8080/",
          "height": 34
        },
        "outputId": "d5e1089f-ac84-4298-c1fe-68852c08100f"
      },
      "source": [
        "len(X_train),len(y_train)"
      ],
      "execution_count": 59,
      "outputs": [
        {
          "output_type": "execute_result",
          "data": {
            "text/plain": [
              "(14370, 3593)"
            ]
          },
          "metadata": {
            "tags": []
          },
          "execution_count": 59
        }
      ]
    },
    {
      "cell_type": "code",
      "metadata": {
        "id": "ehAO8Y3K9BHQ",
        "colab_type": "code",
        "colab": {
          "base_uri": "https://localhost:8080/",
          "height": 204
        },
        "outputId": "7ab32c61-3202-4eb6-92bb-5a76f856de44"
      },
      "source": [
        "X_train.head()"
      ],
      "execution_count": 62,
      "outputs": [
        {
          "output_type": "execute_result",
          "data": {
            "text/html": [
              "<div>\n",
              "<style scoped>\n",
              "    .dataframe tbody tr th:only-of-type {\n",
              "        vertical-align: middle;\n",
              "    }\n",
              "\n",
              "    .dataframe tbody tr th {\n",
              "        vertical-align: top;\n",
              "    }\n",
              "\n",
              "    .dataframe thead th {\n",
              "        text-align: right;\n",
              "    }\n",
              "</style>\n",
              "<table border=\"1\" class=\"dataframe\">\n",
              "  <thead>\n",
              "    <tr style=\"text-align: right;\">\n",
              "      <th></th>\n",
              "      <th>articles</th>\n",
              "    </tr>\n",
              "  </thead>\n",
              "  <tbody>\n",
              "    <tr>\n",
              "      <th>13927</th>\n",
              "      <td>संजीवसंजीव (6 जुलाई, 1947 से वर्तमान) हिन्दी स...</td>\n",
              "    </tr>\n",
              "    <tr>\n",
              "      <th>10657</th>\n",
              "      <td>उत्तर-प्रत्यक्षवाद (अंतरराष्ट्रीय संबंध)अंतररा...</td>\n",
              "    </tr>\n",
              "    <tr>\n",
              "      <th>13549</th>\n",
              "      <td>सीएमएस प्रयोगसीएमएस या कॉम्पैक्ट म्यूऑन सोलेनो...</td>\n",
              "    </tr>\n",
              "    <tr>\n",
              "      <th>12007</th>\n",
              "      <td>छिद्रहीन योनिच्छदछिद्रहीन योनिच्छद एक जन्मजात ...</td>\n",
              "    </tr>\n",
              "    <tr>\n",
              "      <th>2929</th>\n",
              "      <td>उर्मिला सिंहउर्मिला सिंह (जन्म: 6 अगस्त 1946) ...</td>\n",
              "    </tr>\n",
              "  </tbody>\n",
              "</table>\n",
              "</div>"
            ],
            "text/plain": [
              "                                                articles\n",
              "13927  संजीवसंजीव (6 जुलाई, 1947 से वर्तमान) हिन्दी स...\n",
              "10657  उत्तर-प्रत्यक्षवाद (अंतरराष्ट्रीय संबंध)अंतररा...\n",
              "13549  सीएमएस प्रयोगसीएमएस या कॉम्पैक्ट म्यूऑन सोलेनो...\n",
              "12007  छिद्रहीन योनिच्छदछिद्रहीन योनिच्छद एक जन्मजात ...\n",
              "2929   उर्मिला सिंहउर्मिला सिंह (जन्म: 6 अगस्त 1946) ..."
            ]
          },
          "metadata": {
            "tags": []
          },
          "execution_count": 62
        }
      ]
    },
    {
      "cell_type": "code",
      "metadata": {
        "id": "CB586W615L0U",
        "colab_type": "code",
        "colab": {
          "base_uri": "https://localhost:8080/",
          "height": 17
        },
        "outputId": "efe12f4a-8da1-4570-b0ba-2d1176b0b64d"
      },
      "source": [
        "data_lm = TextLMDataBunch.from_df('',X_train.reset_index(),y_train.reset_index(), tokenizer=tokenizer, vocab=hindi_vocab,bs=64)"
      ],
      "execution_count": 61,
      "outputs": [
        {
          "output_type": "display_data",
          "data": {
            "text/html": [
              ""
            ],
            "text/plain": [
              "<IPython.core.display.HTML object>"
            ]
          },
          "metadata": {
            "tags": []
          }
        },
        {
          "output_type": "display_data",
          "data": {
            "text/html": [
              ""
            ],
            "text/plain": [
              "<IPython.core.display.HTML object>"
            ]
          },
          "metadata": {
            "tags": []
          }
        }
      ]
    },
    {
      "cell_type": "code",
      "metadata": {
        "id": "7WBMnbzJ2o-x",
        "colab_type": "code",
        "colab": {
          "base_uri": "https://localhost:8080/",
          "height": 408
        },
        "outputId": "4f4d66e4-98cb-4ad8-b101-a959000f033b"
      },
      "source": [
        "data_lm.show_batch()"
      ],
      "execution_count": 63,
      "outputs": [
        {
          "output_type": "display_data",
          "data": {
            "text/html": [
              "<table border=\"1\" class=\"dataframe\">\n",
              "  <thead>\n",
              "    <tr style=\"text-align: right;\">\n",
              "      <th>idx</th>\n",
              "      <th>text</th>\n",
              "    </tr>\n",
              "  </thead>\n",
              "  <tbody>\n",
              "    <tr>\n",
              "      <td>0</td>\n",
              "      <td>▁जुलाई , ▁1947 ▁ई &lt;unk&gt; ▁को ▁उत्तर ▁प्रदेश ▁के ▁सुल्तानपुर ▁जिले ▁के ▁गाँव ▁बाँ गर ▁कला ँ ▁में ▁हुआ ▁था । ▁इनकी ▁उच्च ▁शिक्षा ▁विज्ञान ▁विषयों ▁को ▁लेकर ▁हुई । ▁बी &lt;unk&gt; एस - सी &lt;unk&gt; , ▁ए &lt;unk&gt; आई &lt;unk&gt; सी &lt;unk&gt; ▁की ▁डिग्री ▁लेकर ▁इन्होंने ▁सन् ▁1965 ▁से ▁2003 ▁ई &lt;unk&gt; ▁तक ▁इंडियन ▁आयरन ▁एंड ▁स्टील ▁कंपनी , ▁कुल ्टी ▁में ▁के मिस्ट ▁इं चार्ज ▁के ▁रूप ▁में</td>\n",
              "    </tr>\n",
              "    <tr>\n",
              "      <td>1</td>\n",
              "      <td>ज् द्र ेव \" ', ▁' \" स वा के विच \" ' ▁ &lt;unk&gt; कु त्ते ▁का ▁पि ल्ला ) , ▁' \" प् ल्यू श ्किन \" ', ▁चि चि को व \" ' ▁आदि ▁के ▁रूप ▁में ▁भी ▁गो गोल ▁ने ▁अपनी ▁रचनात्मक ▁सामर्थ्य ▁का ▁परिचय ▁दिया ▁है । ▁अपनी ▁रचनाओं ▁के ▁माध्यम ▁से ▁गो गोल ▁ने ▁रूसी ▁साहित्य ▁में ▁आलोचनात्मक ▁यथार्थवाद \" ' ▁की ▁नींव ▁डाली</td>\n",
              "    </tr>\n",
              "    <tr>\n",
              "      <td>2</td>\n",
              "      <td>▁है , ▁और ▁सबसे ▁अच्छा ▁राज्य ▁प्रदर्शन ▁पुरस्कार , ▁भारत ▁सरकार ▁द्वारा ▁संकलित ▁सांख्यिकीय ▁आंकड़ों ▁के ▁आधार ▁पर ▁जीता ▁है । ▁वर्ष ▁2012 ▁में ▁राज्य ▁भारत ▁के ▁लिए ▁समग्र ▁प्रेषण ▁जो ▁66 . 13 ▁$ ▁अरब ▁ &lt;unk&gt; 45 47 4 29 45 ▁x x re p ▁4 ▁0 ▁ .00 ▁भारतीय ▁रुपए ) ▁पर ▁खड़ा ▁था , ▁केरल , ▁तमिलनाडु ▁और ▁उत्तर ▁प्रदेश ▁के ▁नीचे ▁के ▁उच्चतम ▁रिसीवर ▁में</td>\n",
              "    </tr>\n",
              "    <tr>\n",
              "      <td>3</td>\n",
              "      <td>▁किया ▁गया ▁था , ▁और ▁उन्हें ▁समाज ▁का ▁सदस्य ▁नहीं ▁माना ▁जाता ▁था । ▁इतिहासकार ▁रोम िला ▁था पर ▁के ▁अनुसार ▁ , ▁भारतीय ▁समाज ▁में ▁दासों ▁और ▁अन्य ▁लोगों ▁के ▁बीच ▁तीव्र ▁अंतर ▁का ▁अभाव ▁ &lt;unk&gt; ▁ग्रीक ▁समाज ▁के ▁विपरीत ▁) ▁ने ▁मेगस्थनीज ़ ▁को ▁भ्रमित ▁किया ▁हो ▁सकता ▁है : ▁भारतीयों ▁ने ▁उत्पादन ▁के ▁साधन ▁के ▁रूप ▁में ▁बड़े ▁पैमाने ▁पर ▁गुलामी ▁का ▁उपयोग ▁नहीं ▁किया ,</td>\n",
              "    </tr>\n",
              "    <tr>\n",
              "      <td>4</td>\n",
              "      <td>▁किया ▁जा ▁सकता ▁है । ▁पूर्व ▁और ▁पश्चिम ▁दोनों ▁में ▁सदियों ▁तक ▁धार्मिक ▁संस्थाएँ , ▁सरकार , ▁विश्वविद्यालय ▁तथा ▁अन्य ▁शक्ति शाल िनी ▁संस्थाएँ ▁अपने ▁ही ▁विचारों ▁और ▁सूचनाओं ▁के ▁प्रसार ▁में ▁मुद्रण ▁का ▁उपयोग ▁करती ▁रहीं ▁और ▁उन्होंने ▁ज्ञान ▁के ▁प्रसार ▁में ▁उसके ▁उपयोग ▁का ▁निरंतर ▁विरोध ▁किया । ▁बाद ▁में , ▁आखिरकार ▁आत्मिक ▁एवं ▁बौद्धिक ▁विकास ▁संबंधी ▁अथवा ▁धार्मिक ▁एवं ▁वैज्ञानिक ▁साहित्य ▁के ▁प्रकाशन ▁में ▁मुद्रण ▁का ▁शत</td>\n",
              "    </tr>\n",
              "  </tbody>\n",
              "</table>"
            ],
            "text/plain": [
              "<IPython.core.display.HTML object>"
            ]
          },
          "metadata": {
            "tags": []
          }
        }
      ]
    },
    {
      "cell_type": "code",
      "metadata": {
        "id": "ynlo5K6Z9Pv8",
        "colab_type": "code",
        "colab": {}
      },
      "source": [
        "learn = language_model_learner(data_lm, AWD_LSTM,drop_mult=1.0,wd=0.1, pretrained=False)"
      ],
      "execution_count": 0,
      "outputs": []
    },
    {
      "cell_type": "code",
      "metadata": {
        "id": "lAwxjebt9f60",
        "colab_type": "code",
        "colab": {
          "base_uri": "https://localhost:8080/",
          "height": 112
        },
        "outputId": "1b6d4e7d-2f23-4e03-9f12-37205b620b0a"
      },
      "source": [
        "learn.lr_find()"
      ],
      "execution_count": 82,
      "outputs": [
        {
          "output_type": "display_data",
          "data": {
            "text/html": [
              "\n",
              "    <div>\n",
              "        <style>\n",
              "            /* Turns off some styling */\n",
              "            progress {\n",
              "                /* gets rid of default border in Firefox and Opera. */\n",
              "                border: none;\n",
              "                /* Needs to be in here for Safari polyfill so background images work as expected. */\n",
              "                background-size: auto;\n",
              "            }\n",
              "            .progress-bar-interrupted, .progress-bar-interrupted::-webkit-progress-bar {\n",
              "                background: #F44336;\n",
              "            }\n",
              "        </style>\n",
              "      <progress value='0' class='' max='1', style='width:300px; height:20px; vertical-align: middle;'></progress>\n",
              "      0.00% [0/1 00:00<00:00]\n",
              "    </div>\n",
              "    \n",
              "<table border=\"1\" class=\"dataframe\">\n",
              "  <thead>\n",
              "    <tr style=\"text-align: left;\">\n",
              "      <th>epoch</th>\n",
              "      <th>train_loss</th>\n",
              "      <th>valid_loss</th>\n",
              "      <th>accuracy</th>\n",
              "      <th>time</th>\n",
              "    </tr>\n",
              "  </thead>\n",
              "  <tbody>\n",
              "  </tbody>\n",
              "</table><p>\n",
              "\n",
              "    <div>\n",
              "        <style>\n",
              "            /* Turns off some styling */\n",
              "            progress {\n",
              "                /* gets rid of default border in Firefox and Opera. */\n",
              "                border: none;\n",
              "                /* Needs to be in here for Safari polyfill so background images work as expected. */\n",
              "                background-size: auto;\n",
              "            }\n",
              "            .progress-bar-interrupted, .progress-bar-interrupted::-webkit-progress-bar {\n",
              "                background: #F44336;\n",
              "            }\n",
              "        </style>\n",
              "      <progress value='94' class='' max='5368', style='width:300px; height:20px; vertical-align: middle;'></progress>\n",
              "      1.75% [94/5368 00:17<15:53 18.3849]\n",
              "    </div>\n",
              "    "
            ],
            "text/plain": [
              "<IPython.core.display.HTML object>"
            ]
          },
          "metadata": {
            "tags": []
          }
        },
        {
          "output_type": "stream",
          "text": [
            "LR Finder is complete, type {learner_name}.recorder.plot() to see the graph.\n"
          ],
          "name": "stdout"
        }
      ]
    },
    {
      "cell_type": "code",
      "metadata": {
        "id": "PFHOk4qG9nKt",
        "colab_type": "code",
        "colab": {
          "base_uri": "https://localhost:8080/",
          "height": 279
        },
        "outputId": "54efda02-30f7-4d90-ef0f-0f5ebec0183f"
      },
      "source": [
        "learn.recorder.plot()"
      ],
      "execution_count": 83,
      "outputs": [
        {
          "output_type": "display_data",
          "data": {
            "image/png": "[encoded data removed]",
            "text/plain": [
              "<Figure size 432x288 with 1 Axes>"
            ]
          },
          "metadata": {
            "tags": []
          }
        }
      ]
    },
    {
      "cell_type": "code",
      "metadata": {
        "id": "_g0NiAH59vAJ",
        "colab_type": "code",
        "colab": {
          "base_uri": "https://localhost:8080/",
          "height": 529
        },
        "outputId": "cfa818b9-c522-4765-cdfd-ec3a09887375"
      },
      "source": [
        "learn.fit_one_cycle(10,1e-3,moms=(0.8,0.7),callbacks=[callbacks.SaveModelCallback(learn, every='improvement', monitor='accuracy', name='model')])"
      ],
      "execution_count": 75,
      "outputs": [
        {
          "output_type": "display_data",
          "data": {
            "text/html": [
              "<table border=\"1\" class=\"dataframe\">\n",
              "  <thead>\n",
              "    <tr style=\"text-align: left;\">\n",
              "      <th>epoch</th>\n",
              "      <th>train_loss</th>\n",
              "      <th>valid_loss</th>\n",
              "      <th>accuracy</th>\n",
              "      <th>time</th>\n",
              "    </tr>\n",
              "  </thead>\n",
              "  <tbody>\n",
              "    <tr>\n",
              "      <td>0</td>\n",
              "      <td>7.482059</td>\n",
              "      <td>7.509008</td>\n",
              "      <td>0.035876</td>\n",
              "      <td>17:17</td>\n",
              "    </tr>\n",
              "    <tr>\n",
              "      <td>1</td>\n",
              "      <td>7.360994</td>\n",
              "      <td>7.356290</td>\n",
              "      <td>0.061068</td>\n",
              "      <td>17:18</td>\n",
              "    </tr>\n",
              "    <tr>\n",
              "      <td>2</td>\n",
              "      <td>5.953949</td>\n",
              "      <td>5.942132</td>\n",
              "      <td>0.160586</td>\n",
              "      <td>17:22</td>\n",
              "    </tr>\n",
              "    <tr>\n",
              "      <td>3</td>\n",
              "      <td>5.366795</td>\n",
              "      <td>5.345860</td>\n",
              "      <td>0.199632</td>\n",
              "      <td>17:24</td>\n",
              "    </tr>\n",
              "    <tr>\n",
              "      <td>4</td>\n",
              "      <td>5.039505</td>\n",
              "      <td>5.003708</td>\n",
              "      <td>0.228163</td>\n",
              "      <td>17:20</td>\n",
              "    </tr>\n",
              "    <tr>\n",
              "      <td>5</td>\n",
              "      <td>4.856654</td>\n",
              "      <td>4.831053</td>\n",
              "      <td>0.242256</td>\n",
              "      <td>17:30</td>\n",
              "    </tr>\n",
              "    <tr>\n",
              "      <td>6</td>\n",
              "      <td>4.828030</td>\n",
              "      <td>4.738739</td>\n",
              "      <td>0.250630</td>\n",
              "      <td>17:32</td>\n",
              "    </tr>\n",
              "    <tr>\n",
              "      <td>7</td>\n",
              "      <td>4.721404</td>\n",
              "      <td>4.669031</td>\n",
              "      <td>0.256698</td>\n",
              "      <td>17:33</td>\n",
              "    </tr>\n",
              "    <tr>\n",
              "      <td>8</td>\n",
              "      <td>4.705255</td>\n",
              "      <td>4.635407</td>\n",
              "      <td>0.259839</td>\n",
              "      <td>17:32</td>\n",
              "    </tr>\n",
              "    <tr>\n",
              "      <td>9</td>\n",
              "      <td>4.673303</td>\n",
              "      <td>4.625557</td>\n",
              "      <td>0.260855</td>\n",
              "      <td>17:33</td>\n",
              "    </tr>\n",
              "  </tbody>\n",
              "</table>"
            ],
            "text/plain": [
              "<IPython.core.display.HTML object>"
            ]
          },
          "metadata": {
            "tags": []
          }
        },
        {
          "output_type": "stream",
          "text": [
            "Better model found at epoch 0 with accuracy value: 0.0358758270740509.\n",
            "Better model found at epoch 1 with accuracy value: 0.061067841947078705.\n",
            "Better model found at epoch 2 with accuracy value: 0.16058558225631714.\n",
            "Better model found at epoch 3 with accuracy value: 0.1996317058801651.\n",
            "Better model found at epoch 4 with accuracy value: 0.2281630039215088.\n",
            "Better model found at epoch 5 with accuracy value: 0.2422555536031723.\n",
            "Better model found at epoch 6 with accuracy value: 0.25062981247901917.\n",
            "Better model found at epoch 7 with accuracy value: 0.25669756531715393.\n",
            "Better model found at epoch 8 with accuracy value: 0.25983932614326477.\n",
            "Better model found at epoch 9 with accuracy value: 0.26085469126701355.\n"
          ],
          "name": "stdout"
        }
      ]
    },
    {
      "cell_type": "code",
      "metadata": {
        "id": "AWAtDWLk14VO",
        "colab_type": "code",
        "colab": {
          "base_uri": "https://localhost:8080/",
          "height": 405
        },
        "outputId": "4ce4885e-f7f6-454d-d76f-9e1a5d2240ce"
      },
      "source": [
        "learn.fit_one_cycle(1,7e-4,moms=(0.9,0.8))"
      ],
      "execution_count": 81,
      "outputs": [
        {
          "output_type": "display_data",
          "data": {
            "text/html": [
              "\n",
              "    <div>\n",
              "        <style>\n",
              "            /* Turns off some styling */\n",
              "            progress {\n",
              "                /* gets rid of default border in Firefox and Opera. */\n",
              "                border: none;\n",
              "                /* Needs to be in here for Safari polyfill so background images work as expected. */\n",
              "                background-size: auto;\n",
              "            }\n",
              "            .progress-bar-interrupted, .progress-bar-interrupted::-webkit-progress-bar {\n",
              "                background: #F44336;\n",
              "            }\n",
              "        </style>\n",
              "      <progress value='0' class='' max='1', style='width:300px; height:20px; vertical-align: middle;'></progress>\n",
              "      0.00% [0/1 00:00<00:00]\n",
              "    </div>\n",
              "    \n",
              "<table border=\"1\" class=\"dataframe\">\n",
              "  <thead>\n",
              "    <tr style=\"text-align: left;\">\n",
              "      <th>epoch</th>\n",
              "      <th>train_loss</th>\n",
              "      <th>valid_loss</th>\n",
              "      <th>accuracy</th>\n",
              "      <th>time</th>\n",
              "    </tr>\n",
              "  </thead>\n",
              "  <tbody>\n",
              "  </tbody>\n",
              "</table><p>\n",
              "\n",
              "    <div>\n",
              "        <style>\n",
              "            /* Turns off some styling */\n",
              "            progress {\n",
              "                /* gets rid of default border in Firefox and Opera. */\n",
              "                border: none;\n",
              "                /* Needs to be in here for Safari polyfill so background images work as expected. */\n",
              "                background-size: auto;\n",
              "            }\n",
              "            .progress-bar-interrupted, .progress-bar-interrupted::-webkit-progress-bar {\n",
              "                background: #F44336;\n",
              "            }\n",
              "        </style>\n",
              "      <progress value='264' class='' max='5368', style='width:300px; height:20px; vertical-align: middle;'></progress>\n",
              "      4.92% [264/5368 00:47<15:24 4.7417]\n",
              "    </div>\n",
              "    "
            ],
            "text/plain": [
              "<IPython.core.display.HTML object>"
            ]
          },
          "metadata": {
            "tags": []
          }
        },
        {
          "output_type": "error",
          "ename": "KeyboardInterrupt",
          "evalue": "ignored",
          "traceback": [
            "\u001b[0;31m---------------------------------------------------------------------------\u001b[0m",
            "\u001b[0;31mKeyboardInterrupt\u001b[0m                         Traceback (most recent call last)",
            "\u001b[0;32m<ipython-input-81-01db32ab9899>\u001b[0m in \u001b[0;36m<module>\u001b[0;34m()\u001b[0m\n\u001b[0;32m----> 1\u001b[0;31m \u001b[0mlearn\u001b[0m\u001b[0;34m.\u001b[0m\u001b[0mfit_one_cycle\u001b[0m\u001b[0;34m(\u001b[0m\u001b[0;36m1\u001b[0m\u001b[0;34m,\u001b[0m\u001b[0;36m7e-4\u001b[0m\u001b[0;34m,\u001b[0m\u001b[0mmoms\u001b[0m\u001b[0;34m=\u001b[0m\u001b[0;34m(\u001b[0m\u001b[0;36m0.9\u001b[0m\u001b[0;34m,\u001b[0m\u001b[0;36m0.8\u001b[0m\u001b[0;34m)\u001b[0m\u001b[0;34m)\u001b[0m\u001b[0;34m\u001b[0m\u001b[0;34m\u001b[0m\u001b[0m\n\u001b[0m",
            "\u001b[0;32m/usr/local/lib/python3.6/dist-packages/fastai/train.py\u001b[0m in \u001b[0;36mfit_one_cycle\u001b[0;34m(learn, cyc_len, max_lr, moms, div_factor, pct_start, final_div, wd, callbacks, tot_epochs, start_epoch)\u001b[0m\n\u001b[1;32m     21\u001b[0m     callbacks.append(OneCycleScheduler(learn, max_lr, moms=moms, div_factor=div_factor, pct_start=pct_start,\n\u001b[1;32m     22\u001b[0m                                        final_div=final_div, tot_epochs=tot_epochs, start_epoch=start_epoch))\n\u001b[0;32m---> 23\u001b[0;31m     \u001b[0mlearn\u001b[0m\u001b[0;34m.\u001b[0m\u001b[0mfit\u001b[0m\u001b[0;34m(\u001b[0m\u001b[0mcyc_len\u001b[0m\u001b[0;34m,\u001b[0m \u001b[0mmax_lr\u001b[0m\u001b[0;34m,\u001b[0m \u001b[0mwd\u001b[0m\u001b[0;34m=\u001b[0m\u001b[0mwd\u001b[0m\u001b[0;34m,\u001b[0m \u001b[0mcallbacks\u001b[0m\u001b[0;34m=\u001b[0m\u001b[0mcallbacks\u001b[0m\u001b[0;34m)\u001b[0m\u001b[0;34m\u001b[0m\u001b[0;34m\u001b[0m\u001b[0m\n\u001b[0m\u001b[1;32m     24\u001b[0m \u001b[0;34m\u001b[0m\u001b[0m\n\u001b[1;32m     25\u001b[0m def fit_fc(learn:Learner, tot_epochs:int=1, lr:float=defaults.lr,  moms:Tuple[float,float]=(0.95,0.85), start_pct:float=0.72,\n",
            "\u001b[0;32m/usr/local/lib/python3.6/dist-packages/fastai/basic_train.py\u001b[0m in \u001b[0;36mfit\u001b[0;34m(self, epochs, lr, wd, callbacks)\u001b[0m\n\u001b[1;32m    198\u001b[0m         \u001b[0;32melse\u001b[0m\u001b[0;34m:\u001b[0m \u001b[0mself\u001b[0m\u001b[0;34m.\u001b[0m\u001b[0mopt\u001b[0m\u001b[0;34m.\u001b[0m\u001b[0mlr\u001b[0m\u001b[0;34m,\u001b[0m\u001b[0mself\u001b[0m\u001b[0;34m.\u001b[0m\u001b[0mopt\u001b[0m\u001b[0;34m.\u001b[0m\u001b[0mwd\u001b[0m \u001b[0;34m=\u001b[0m \u001b[0mlr\u001b[0m\u001b[0;34m,\u001b[0m\u001b[0mwd\u001b[0m\u001b[0;34m\u001b[0m\u001b[0;34m\u001b[0m\u001b[0m\n\u001b[1;32m    199\u001b[0m         \u001b[0mcallbacks\u001b[0m \u001b[0;34m=\u001b[0m \u001b[0;34m[\u001b[0m\u001b[0mcb\u001b[0m\u001b[0;34m(\u001b[0m\u001b[0mself\u001b[0m\u001b[0;34m)\u001b[0m \u001b[0;32mfor\u001b[0m \u001b[0mcb\u001b[0m \u001b[0;32min\u001b[0m \u001b[0mself\u001b[0m\u001b[0;34m.\u001b[0m\u001b[0mcallback_fns\u001b[0m \u001b[0;34m+\u001b[0m \u001b[0mlistify\u001b[0m\u001b[0;34m(\u001b[0m\u001b[0mdefaults\u001b[0m\u001b[0;34m.\u001b[0m\u001b[0mextra_callback_fns\u001b[0m\u001b[0;34m)\u001b[0m\u001b[0;34m]\u001b[0m \u001b[0;34m+\u001b[0m \u001b[0mlistify\u001b[0m\u001b[0;34m(\u001b[0m\u001b[0mcallbacks\u001b[0m\u001b[0;34m)\u001b[0m\u001b[0;34m\u001b[0m\u001b[0;34m\u001b[0m\u001b[0m\n\u001b[0;32m--> 200\u001b[0;31m         \u001b[0mfit\u001b[0m\u001b[0;34m(\u001b[0m\u001b[0mepochs\u001b[0m\u001b[0;34m,\u001b[0m \u001b[0mself\u001b[0m\u001b[0;34m,\u001b[0m \u001b[0mmetrics\u001b[0m\u001b[0;34m=\u001b[0m\u001b[0mself\u001b[0m\u001b[0;34m.\u001b[0m\u001b[0mmetrics\u001b[0m\u001b[0;34m,\u001b[0m \u001b[0mcallbacks\u001b[0m\u001b[0;34m=\u001b[0m\u001b[0mself\u001b[0m\u001b[0;34m.\u001b[0m\u001b[0mcallbacks\u001b[0m\u001b[0;34m+\u001b[0m\u001b[0mcallbacks\u001b[0m\u001b[0;34m)\u001b[0m\u001b[0;34m\u001b[0m\u001b[0;34m\u001b[0m\u001b[0m\n\u001b[0m\u001b[1;32m    201\u001b[0m \u001b[0;34m\u001b[0m\u001b[0m\n\u001b[1;32m    202\u001b[0m     \u001b[0;32mdef\u001b[0m \u001b[0mcreate_opt\u001b[0m\u001b[0;34m(\u001b[0m\u001b[0mself\u001b[0m\u001b[0;34m,\u001b[0m \u001b[0mlr\u001b[0m\u001b[0;34m:\u001b[0m\u001b[0mFloats\u001b[0m\u001b[0;34m,\u001b[0m \u001b[0mwd\u001b[0m\u001b[0;34m:\u001b[0m\u001b[0mFloats\u001b[0m\u001b[0;34m=\u001b[0m\u001b[0;36m0.\u001b[0m\u001b[0;34m)\u001b[0m\u001b[0;34m->\u001b[0m\u001b[0;32mNone\u001b[0m\u001b[0;34m:\u001b[0m\u001b[0;34m\u001b[0m\u001b[0;34m\u001b[0m\u001b[0m\n",
            "\u001b[0;32m/usr/local/lib/python3.6/dist-packages/fastai/basic_train.py\u001b[0m in \u001b[0;36mfit\u001b[0;34m(epochs, learn, callbacks, metrics)\u001b[0m\n\u001b[1;32m     99\u001b[0m             \u001b[0;32mfor\u001b[0m \u001b[0mxb\u001b[0m\u001b[0;34m,\u001b[0m\u001b[0myb\u001b[0m \u001b[0;32min\u001b[0m \u001b[0mprogress_bar\u001b[0m\u001b[0;34m(\u001b[0m\u001b[0mlearn\u001b[0m\u001b[0;34m.\u001b[0m\u001b[0mdata\u001b[0m\u001b[0;34m.\u001b[0m\u001b[0mtrain_dl\u001b[0m\u001b[0;34m,\u001b[0m \u001b[0mparent\u001b[0m\u001b[0;34m=\u001b[0m\u001b[0mpbar\u001b[0m\u001b[0;34m)\u001b[0m\u001b[0;34m:\u001b[0m\u001b[0;34m\u001b[0m\u001b[0;34m\u001b[0m\u001b[0m\n\u001b[1;32m    100\u001b[0m                 \u001b[0mxb\u001b[0m\u001b[0;34m,\u001b[0m \u001b[0myb\u001b[0m \u001b[0;34m=\u001b[0m \u001b[0mcb_handler\u001b[0m\u001b[0;34m.\u001b[0m\u001b[0mon_batch_begin\u001b[0m\u001b[0;34m(\u001b[0m\u001b[0mxb\u001b[0m\u001b[0;34m,\u001b[0m \u001b[0myb\u001b[0m\u001b[0;34m)\u001b[0m\u001b[0;34m\u001b[0m\u001b[0;34m\u001b[0m\u001b[0m\n\u001b[0;32m--> 101\u001b[0;31m                 \u001b[0mloss\u001b[0m \u001b[0;34m=\u001b[0m \u001b[0mloss_batch\u001b[0m\u001b[0;34m(\u001b[0m\u001b[0mlearn\u001b[0m\u001b[0;34m.\u001b[0m\u001b[0mmodel\u001b[0m\u001b[0;34m,\u001b[0m \u001b[0mxb\u001b[0m\u001b[0;34m,\u001b[0m \u001b[0myb\u001b[0m\u001b[0;34m,\u001b[0m \u001b[0mlearn\u001b[0m\u001b[0;34m.\u001b[0m\u001b[0mloss_func\u001b[0m\u001b[0;34m,\u001b[0m \u001b[0mlearn\u001b[0m\u001b[0;34m.\u001b[0m\u001b[0mopt\u001b[0m\u001b[0;34m,\u001b[0m \u001b[0mcb_handler\u001b[0m\u001b[0;34m)\u001b[0m\u001b[0;34m\u001b[0m\u001b[0;34m\u001b[0m\u001b[0m\n\u001b[0m\u001b[1;32m    102\u001b[0m                 \u001b[0;32mif\u001b[0m \u001b[0mcb_handler\u001b[0m\u001b[0;34m.\u001b[0m\u001b[0mon_batch_end\u001b[0m\u001b[0;34m(\u001b[0m\u001b[0mloss\u001b[0m\u001b[0;34m)\u001b[0m\u001b[0;34m:\u001b[0m \u001b[0;32mbreak\u001b[0m\u001b[0;34m\u001b[0m\u001b[0;34m\u001b[0m\u001b[0m\n\u001b[1;32m    103\u001b[0m \u001b[0;34m\u001b[0m\u001b[0m\n",
            "\u001b[0;32m/usr/local/lib/python3.6/dist-packages/fastai/basic_train.py\u001b[0m in \u001b[0;36mloss_batch\u001b[0;34m(model, xb, yb, loss_func, opt, cb_handler)\u001b[0m\n\u001b[1;32m     32\u001b[0m     \u001b[0;32mif\u001b[0m \u001b[0mopt\u001b[0m \u001b[0;32mis\u001b[0m \u001b[0;32mnot\u001b[0m \u001b[0;32mNone\u001b[0m\u001b[0;34m:\u001b[0m\u001b[0;34m\u001b[0m\u001b[0;34m\u001b[0m\u001b[0m\n\u001b[1;32m     33\u001b[0m         \u001b[0mloss\u001b[0m\u001b[0;34m,\u001b[0m\u001b[0mskip_bwd\u001b[0m \u001b[0;34m=\u001b[0m \u001b[0mcb_handler\u001b[0m\u001b[0;34m.\u001b[0m\u001b[0mon_backward_begin\u001b[0m\u001b[0;34m(\u001b[0m\u001b[0mloss\u001b[0m\u001b[0;34m)\u001b[0m\u001b[0;34m\u001b[0m\u001b[0;34m\u001b[0m\u001b[0m\n\u001b[0;32m---> 34\u001b[0;31m         \u001b[0;32mif\u001b[0m \u001b[0;32mnot\u001b[0m \u001b[0mskip_bwd\u001b[0m\u001b[0;34m:\u001b[0m                     \u001b[0mloss\u001b[0m\u001b[0;34m.\u001b[0m\u001b[0mbackward\u001b[0m\u001b[0;34m(\u001b[0m\u001b[0;34m)\u001b[0m\u001b[0;34m\u001b[0m\u001b[0;34m\u001b[0m\u001b[0m\n\u001b[0m\u001b[1;32m     35\u001b[0m         \u001b[0;32mif\u001b[0m \u001b[0;32mnot\u001b[0m \u001b[0mcb_handler\u001b[0m\u001b[0;34m.\u001b[0m\u001b[0mon_backward_end\u001b[0m\u001b[0;34m(\u001b[0m\u001b[0;34m)\u001b[0m\u001b[0;34m:\u001b[0m \u001b[0mopt\u001b[0m\u001b[0;34m.\u001b[0m\u001b[0mstep\u001b[0m\u001b[0;34m(\u001b[0m\u001b[0;34m)\u001b[0m\u001b[0;34m\u001b[0m\u001b[0;34m\u001b[0m\u001b[0m\n\u001b[1;32m     36\u001b[0m         \u001b[0;32mif\u001b[0m \u001b[0;32mnot\u001b[0m \u001b[0mcb_handler\u001b[0m\u001b[0;34m.\u001b[0m\u001b[0mon_step_end\u001b[0m\u001b[0;34m(\u001b[0m\u001b[0;34m)\u001b[0m\u001b[0;34m:\u001b[0m     \u001b[0mopt\u001b[0m\u001b[0;34m.\u001b[0m\u001b[0mzero_grad\u001b[0m\u001b[0;34m(\u001b[0m\u001b[0;34m)\u001b[0m\u001b[0;34m\u001b[0m\u001b[0;34m\u001b[0m\u001b[0m\n",
            "\u001b[0;32m/usr/local/lib/python3.6/dist-packages/torch/tensor.py\u001b[0m in \u001b[0;36mbackward\u001b[0;34m(self, gradient, retain_graph, create_graph)\u001b[0m\n\u001b[1;32m    193\u001b[0m                 \u001b[0mproducts\u001b[0m\u001b[0;34m.\u001b[0m \u001b[0mDefaults\u001b[0m \u001b[0mto\u001b[0m\u001b[0;31m \u001b[0m\u001b[0;31m`\u001b[0m\u001b[0;31m`\u001b[0m\u001b[0;32mFalse\u001b[0m\u001b[0;31m`\u001b[0m\u001b[0;31m`\u001b[0m\u001b[0;34m.\u001b[0m\u001b[0;34m\u001b[0m\u001b[0;34m\u001b[0m\u001b[0m\n\u001b[1;32m    194\u001b[0m         \"\"\"\n\u001b[0;32m--> 195\u001b[0;31m         \u001b[0mtorch\u001b[0m\u001b[0;34m.\u001b[0m\u001b[0mautograd\u001b[0m\u001b[0;34m.\u001b[0m\u001b[0mbackward\u001b[0m\u001b[0;34m(\u001b[0m\u001b[0mself\u001b[0m\u001b[0;34m,\u001b[0m \u001b[0mgradient\u001b[0m\u001b[0;34m,\u001b[0m \u001b[0mretain_graph\u001b[0m\u001b[0;34m,\u001b[0m \u001b[0mcreate_graph\u001b[0m\u001b[0;34m)\u001b[0m\u001b[0;34m\u001b[0m\u001b[0;34m\u001b[0m\u001b[0m\n\u001b[0m\u001b[1;32m    196\u001b[0m \u001b[0;34m\u001b[0m\u001b[0m\n\u001b[1;32m    197\u001b[0m     \u001b[0;32mdef\u001b[0m \u001b[0mregister_hook\u001b[0m\u001b[0;34m(\u001b[0m\u001b[0mself\u001b[0m\u001b[0;34m,\u001b[0m \u001b[0mhook\u001b[0m\u001b[0;34m)\u001b[0m\u001b[0;34m:\u001b[0m\u001b[0;34m\u001b[0m\u001b[0;34m\u001b[0m\u001b[0m\n",
            "\u001b[0;32m/usr/local/lib/python3.6/dist-packages/torch/autograd/__init__.py\u001b[0m in \u001b[0;36mbackward\u001b[0;34m(tensors, grad_tensors, retain_graph, create_graph, grad_variables)\u001b[0m\n\u001b[1;32m     97\u001b[0m     Variable._execution_engine.run_backward(\n\u001b[1;32m     98\u001b[0m         \u001b[0mtensors\u001b[0m\u001b[0;34m,\u001b[0m \u001b[0mgrad_tensors\u001b[0m\u001b[0;34m,\u001b[0m \u001b[0mretain_graph\u001b[0m\u001b[0;34m,\u001b[0m \u001b[0mcreate_graph\u001b[0m\u001b[0;34m,\u001b[0m\u001b[0;34m\u001b[0m\u001b[0;34m\u001b[0m\u001b[0m\n\u001b[0;32m---> 99\u001b[0;31m         allow_unreachable=True)  # allow_unreachable flag\n\u001b[0m\u001b[1;32m    100\u001b[0m \u001b[0;34m\u001b[0m\u001b[0m\n\u001b[1;32m    101\u001b[0m \u001b[0;34m\u001b[0m\u001b[0m\n",
            "\u001b[0;31mKeyboardInterrupt\u001b[0m: "
          ]
        }
      ]
    },
    {
      "cell_type": "code",
      "metadata": {
        "id": "cTiYfu0O1jcg",
        "colab_type": "code",
        "colab": {
          "base_uri": "https://localhost:8080/",
          "height": 34
        },
        "outputId": "6ec06ef2-fd77-4b87-d89b-e55f7506ef83"
      },
      "source": [
        "learn.predict(\"नमकीन कैसे बनाते हैं\",n_words=20)"
      ],
      "execution_count": 79,
      "outputs": [
        {
          "output_type": "execute_result",
          "data": {
            "text/plain": [
              "'नमकीन कैसे बनाते हैं ▁कि ▁मुझे ▁लगता ▁है ▁आज ▁भी ▁हम ▁प्यार ▁करता ▁रहा ▁हैं ▁यानि ▁दाम ▁टूट ती ▁विशेषज्ञों ▁या ▁तो ओ ▁मे'"
            ]
          },
          "metadata": {
            "tags": []
          },
          "execution_count": 79
        }
      ]
    }
  ]
}