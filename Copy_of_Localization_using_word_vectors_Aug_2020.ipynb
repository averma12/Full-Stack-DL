{
  "nbformat": 4,
  "nbformat_minor": 0,
  "metadata": {
    "colab": {
      "name": "Copy of Localization using word vectors - Aug 2020.ipynb",
      "provenance": [],
      "collapsed_sections": [
        "f13mIzxxMO2F",
        "FB7tqbLOqWdy",
        "hKjwheWW07cY"
      ],
      "include_colab_link": true
    },
    "kernelspec": {
      "name": "python3",
      "display_name": "Python 3"
    },
    "widgets": {
      "application/vnd.jupyter.widget-state+json": {
        "24fdb9cf2e9f4dc1b53b9d1dd6c0c4a2": {
          "model_module": "@jupyter-widgets/controls",
          "model_name": "VBoxModel",
          "state": {
            "_view_name": "VBoxView",
            "_dom_classes": [],
            "_model_name": "VBoxModel",
            "_view_module": "@jupyter-widgets/controls",
            "_model_module_version": "1.5.0",
            "_view_count": null,
            "_view_module_version": "1.5.0",
            "box_style": "",
            "layout": "IPY_MODEL_841f19bc08dd41b7a081cbe282d62a9a",
            "_model_module": "@jupyter-widgets/controls",
            "children": [
              "IPY_MODEL_f09bea98bcef418daf5c7ccb2323a089",
              "IPY_MODEL_6872cb320cb74a788aafaf9631f90664",
              "IPY_MODEL_bcd46252c48a4fafba8df5293ca24b4d",
              "IPY_MODEL_e7ad3d36514a4a4c98fa0042242287d6"
            ]
          }
        },
        "841f19bc08dd41b7a081cbe282d62a9a": {
          "model_module": "@jupyter-widgets/base",
          "model_name": "LayoutModel",
          "state": {
            "_view_name": "LayoutView",
            "grid_template_rows": null,
            "right": null,
            "justify_content": null,
            "_view_module": "@jupyter-widgets/base",
            "overflow": null,
            "_model_module_version": "1.2.0",
            "_view_count": null,
            "flex_flow": null,
            "width": null,
            "min_width": null,
            "border": null,
            "align_items": null,
            "bottom": null,
            "_model_module": "@jupyter-widgets/base",
            "top": null,
            "grid_column": null,
            "overflow_y": null,
            "overflow_x": null,
            "grid_auto_flow": null,
            "grid_area": null,
            "grid_template_columns": null,
            "flex": null,
            "_model_name": "LayoutModel",
            "justify_items": null,
            "grid_row": null,
            "max_height": null,
            "align_content": null,
            "visibility": null,
            "align_self": null,
            "height": null,
            "min_height": null,
            "padding": null,
            "grid_auto_rows": null,
            "grid_gap": null,
            "max_width": null,
            "order": null,
            "_view_module_version": "1.2.0",
            "grid_template_areas": null,
            "object_position": null,
            "object_fit": null,
            "grid_auto_columns": null,
            "margin": null,
            "display": null,
            "left": null
          }
        },
        "f09bea98bcef418daf5c7ccb2323a089": {
          "model_module": "@jupyter-widgets/controls",
          "model_name": "DropdownModel",
          "state": {
            "_options_labels": [
              "Sanjay Verma",
              "Sabyasachi Sen",
              "JK Jain",
              "Sunil Chauhan",
              "Don",
              "Sudip",
              "Ajay Shankar",
              "Robert",
              "V. Srinivasan",
              "Kanwar Sain"
            ],
            "_view_name": "DropdownView",
            "style": "IPY_MODEL_c15403d2adc24069b241db0ea2c85b42",
            "_dom_classes": [],
            "description": "Frank",
            "_model_name": "DropdownModel",
            "index": 0,
            "_view_module": "@jupyter-widgets/controls",
            "_model_module_version": "1.5.0",
            "_view_count": null,
            "disabled": false,
            "_view_module_version": "1.5.0",
            "description_tooltip": null,
            "_model_module": "@jupyter-widgets/controls",
            "layout": "IPY_MODEL_e512c28fb7714ff384684a73e78177a4"
          }
        },
        "6872cb320cb74a788aafaf9631f90664": {
          "model_module": "@jupyter-widgets/controls",
          "model_name": "DropdownModel",
          "state": {
            "_options_labels": [
              "Bangalore",
              "Kolkata",
              "Mumbai",
              "Chennai",
              "Delhi",
              "Hyderabad",
              "Calcutta",
              "San Franciso",
              "Bombay",
              "Bengaluru"
            ],
            "_view_name": "DropdownView",
            "style": "IPY_MODEL_9d951535322a4722b893d00be9585b5b",
            "_dom_classes": [],
            "description": "San Francisco",
            "_model_name": "DropdownModel",
            "index": 0,
            "_view_module": "@jupyter-widgets/controls",
            "_model_module_version": "1.5.0",
            "_view_count": null,
            "disabled": false,
            "_view_module_version": "1.5.0",
            "description_tooltip": null,
            "_model_module": "@jupyter-widgets/controls",
            "layout": "IPY_MODEL_5280409bdb874733b08d064078526502"
          }
        },
        "bcd46252c48a4fafba8df5293ca24b4d": {
          "model_module": "@jupyter-widgets/controls",
          "model_name": "DropdownModel",
          "state": {
            "_options_labels": [
              "Rekha",
              "Nandita",
              "Meera",
              "Margaret",
              "Katharine",
              "Bhagirath",
              "Monica",
              "Lakshmi",
              "Manisha",
              "Anita"
            ],
            "_view_name": "DropdownView",
            "style": "IPY_MODEL_71462ca64e024dfc82cdba0f78a15f7f",
            "_dom_classes": [],
            "description": "Elizabeth",
            "_model_name": "DropdownModel",
            "index": 0,
            "_view_module": "@jupyter-widgets/controls",
            "_model_module_version": "1.5.0",
            "_view_count": null,
            "disabled": false,
            "_view_module_version": "1.5.0",
            "description_tooltip": null,
            "_model_module": "@jupyter-widgets/controls",
            "layout": "IPY_MODEL_85245c056b0d4daaa0519b09a8454b2c"
          }
        },
        "e7ad3d36514a4a4c98fa0042242287d6": {
          "model_module": "@jupyter-widgets/controls",
          "model_name": "DropdownModel",
          "state": {
            "_options_labels": [
              "Mumbai",
              "Los Angles",
              "Kolkata",
              "Chennai",
              "Bangalore",
              "LA",
              "Delhi",
              "Hyderabad",
              "Ahmedabad",
              "Calcutta"
            ],
            "_view_name": "DropdownView",
            "style": "IPY_MODEL_fe5983130a1d43888d3af0a938a07b4d",
            "_dom_classes": [],
            "description": "Los Angeles",
            "_model_name": "DropdownModel",
            "index": 0,
            "_view_module": "@jupyter-widgets/controls",
            "_model_module_version": "1.5.0",
            "_view_count": null,
            "disabled": false,
            "_view_module_version": "1.5.0",
            "description_tooltip": null,
            "_model_module": "@jupyter-widgets/controls",
            "layout": "IPY_MODEL_47ac28c89bc147c7b08cf394fb43e04a"
          }
        },
        "c15403d2adc24069b241db0ea2c85b42": {
          "model_module": "@jupyter-widgets/controls",
          "model_name": "DescriptionStyleModel",
          "state": {
            "_view_name": "StyleView",
            "_model_name": "DescriptionStyleModel",
            "description_width": "",
            "_view_module": "@jupyter-widgets/base",
            "_model_module_version": "1.5.0",
            "_view_count": null,
            "_view_module_version": "1.2.0",
            "_model_module": "@jupyter-widgets/controls"
          }
        },
        "e512c28fb7714ff384684a73e78177a4": {
          "model_module": "@jupyter-widgets/base",
          "model_name": "LayoutModel",
          "state": {
            "_view_name": "LayoutView",
            "grid_template_rows": null,
            "right": null,
            "justify_content": null,
            "_view_module": "@jupyter-widgets/base",
            "overflow": null,
            "_model_module_version": "1.2.0",
            "_view_count": null,
            "flex_flow": null,
            "width": null,
            "min_width": null,
            "border": null,
            "align_items": null,
            "bottom": null,
            "_model_module": "@jupyter-widgets/base",
            "top": null,
            "grid_column": null,
            "overflow_y": null,
            "overflow_x": null,
            "grid_auto_flow": null,
            "grid_area": null,
            "grid_template_columns": null,
            "flex": null,
            "_model_name": "LayoutModel",
            "justify_items": null,
            "grid_row": null,
            "max_height": null,
            "align_content": null,
            "visibility": null,
            "align_self": null,
            "height": null,
            "min_height": null,
            "padding": null,
            "grid_auto_rows": null,
            "grid_gap": null,
            "max_width": null,
            "order": null,
            "_view_module_version": "1.2.0",
            "grid_template_areas": null,
            "object_position": null,
            "object_fit": null,
            "grid_auto_columns": null,
            "margin": null,
            "display": null,
            "left": null
          }
        },
        "9d951535322a4722b893d00be9585b5b": {
          "model_module": "@jupyter-widgets/controls",
          "model_name": "DescriptionStyleModel",
          "state": {
            "_view_name": "StyleView",
            "_model_name": "DescriptionStyleModel",
            "description_width": "",
            "_view_module": "@jupyter-widgets/base",
            "_model_module_version": "1.5.0",
            "_view_count": null,
            "_view_module_version": "1.2.0",
            "_model_module": "@jupyter-widgets/controls"
          }
        },
        "5280409bdb874733b08d064078526502": {
          "model_module": "@jupyter-widgets/base",
          "model_name": "LayoutModel",
          "state": {
            "_view_name": "LayoutView",
            "grid_template_rows": null,
            "right": null,
            "justify_content": null,
            "_view_module": "@jupyter-widgets/base",
            "overflow": null,
            "_model_module_version": "1.2.0",
            "_view_count": null,
            "flex_flow": null,
            "width": null,
            "min_width": null,
            "border": null,
            "align_items": null,
            "bottom": null,
            "_model_module": "@jupyter-widgets/base",
            "top": null,
            "grid_column": null,
            "overflow_y": null,
            "overflow_x": null,
            "grid_auto_flow": null,
            "grid_area": null,
            "grid_template_columns": null,
            "flex": null,
            "_model_name": "LayoutModel",
            "justify_items": null,
            "grid_row": null,
            "max_height": null,
            "align_content": null,
            "visibility": null,
            "align_self": null,
            "height": null,
            "min_height": null,
            "padding": null,
            "grid_auto_rows": null,
            "grid_gap": null,
            "max_width": null,
            "order": null,
            "_view_module_version": "1.2.0",
            "grid_template_areas": null,
            "object_position": null,
            "object_fit": null,
            "grid_auto_columns": null,
            "margin": null,
            "display": null,
            "left": null
          }
        },
        "71462ca64e024dfc82cdba0f78a15f7f": {
          "model_module": "@jupyter-widgets/controls",
          "model_name": "DescriptionStyleModel",
          "state": {
            "_view_name": "StyleView",
            "_model_name": "DescriptionStyleModel",
            "description_width": "",
            "_view_module": "@jupyter-widgets/base",
            "_model_module_version": "1.5.0",
            "_view_count": null,
            "_view_module_version": "1.2.0",
            "_model_module": "@jupyter-widgets/controls"
          }
        },
        "85245c056b0d4daaa0519b09a8454b2c": {
          "model_module": "@jupyter-widgets/base",
          "model_name": "LayoutModel",
          "state": {
            "_view_name": "LayoutView",
            "grid_template_rows": null,
            "right": null,
            "justify_content": null,
            "_view_module": "@jupyter-widgets/base",
            "overflow": null,
            "_model_module_version": "1.2.0",
            "_view_count": null,
            "flex_flow": null,
            "width": null,
            "min_width": null,
            "border": null,
            "align_items": null,
            "bottom": null,
            "_model_module": "@jupyter-widgets/base",
            "top": null,
            "grid_column": null,
            "overflow_y": null,
            "overflow_x": null,
            "grid_auto_flow": null,
            "grid_area": null,
            "grid_template_columns": null,
            "flex": null,
            "_model_name": "LayoutModel",
            "justify_items": null,
            "grid_row": null,
            "max_height": null,
            "align_content": null,
            "visibility": null,
            "align_self": null,
            "height": null,
            "min_height": null,
            "padding": null,
            "grid_auto_rows": null,
            "grid_gap": null,
            "max_width": null,
            "order": null,
            "_view_module_version": "1.2.0",
            "grid_template_areas": null,
            "object_position": null,
            "object_fit": null,
            "grid_auto_columns": null,
            "margin": null,
            "display": null,
            "left": null
          }
        },
        "fe5983130a1d43888d3af0a938a07b4d": {
          "model_module": "@jupyter-widgets/controls",
          "model_name": "DescriptionStyleModel",
          "state": {
            "_view_name": "StyleView",
            "_model_name": "DescriptionStyleModel",
            "description_width": "",
            "_view_module": "@jupyter-widgets/base",
            "_model_module_version": "1.5.0",
            "_view_count": null,
            "_view_module_version": "1.2.0",
            "_model_module": "@jupyter-widgets/controls"
          }
        },
        "47ac28c89bc147c7b08cf394fb43e04a": {
          "model_module": "@jupyter-widgets/base",
          "model_name": "LayoutModel",
          "state": {
            "_view_name": "LayoutView",
            "grid_template_rows": null,
            "right": null,
            "justify_content": null,
            "_view_module": "@jupyter-widgets/base",
            "overflow": null,
            "_model_module_version": "1.2.0",
            "_view_count": null,
            "flex_flow": null,
            "width": null,
            "min_width": null,
            "border": null,
            "align_items": null,
            "bottom": null,
            "_model_module": "@jupyter-widgets/base",
            "top": null,
            "grid_column": null,
            "overflow_y": null,
            "overflow_x": null,
            "grid_auto_flow": null,
            "grid_area": null,
            "grid_template_columns": null,
            "flex": null,
            "_model_name": "LayoutModel",
            "justify_items": null,
            "grid_row": null,
            "max_height": null,
            "align_content": null,
            "visibility": null,
            "align_self": null,
            "height": null,
            "min_height": null,
            "padding": null,
            "grid_auto_rows": null,
            "grid_gap": null,
            "max_width": null,
            "order": null,
            "_view_module_version": "1.2.0",
            "grid_template_areas": null,
            "object_position": null,
            "object_fit": null,
            "grid_auto_columns": null,
            "margin": null,
            "display": null,
            "left": null
          }
        }
      }
    }
  },
  "cells": [
    {
      "cell_type": "markdown",
      "metadata": {
        "id": "view-in-github",
        "colab_type": "text"
      },
      "source": [
        "<a href=\"https://colab.research.google.com/github/averma12/Full-Stack-DL/blob/master/Copy_of_Localization_using_word_vectors_Aug_2020.ipynb\" target=\"_parent\"><img src=\"https://colab.research.google.com/assets/colab-badge.svg\" alt=\"Open In Colab\"/></a>"
      ]
    },
    {
      "cell_type": "code",
      "metadata": {
        "id": "7y3Xxux59CN2",
        "colab_type": "code",
        "colab": {}
      },
      "source": [
        ""
      ],
      "execution_count": null,
      "outputs": []
    },
    {
      "cell_type": "markdown",
      "metadata": {
        "id": "sud63-NAKAoM",
        "colab_type": "text"
      },
      "source": [
        "## Example 1  Step 1: Extract entities that need to be localized\n",
        "Example 1 focuses on an example that it completely automated and needs no manual intervention. In example 2 we will focus on providing UI functionality to select the correct choice manually."
      ]
    },
    {
      "cell_type": "code",
      "metadata": {
        "id": "LJVXrCw_J-6y",
        "colab_type": "code",
        "colab": {}
      },
      "source": [
        "import spacy\n",
        "import pandas as pd\n",
        "from spacy import displacy\n",
        "from spacy.tokens import Span\n",
        "nlp = spacy.load(\"en\")"
      ],
      "execution_count": null,
      "outputs": []
    },
    {
      "cell_type": "code",
      "metadata": {
        "id": "rq3F209lKgFd",
        "colab_type": "code",
        "colab": {
          "base_uri": "https://localhost:8080/",
          "height": 124
        },
        "outputId": "38f9c6b8-8e8a-4eec-87d7-05e2be3e7f57"
      },
      "source": [
        "\n",
        "original_input = \"Frank lives in San Francisco and Elizabeth lives in Los Angeles. If the flight time is 2 hrs when will Elizabeth reach Frank if she starts at 8am in the morning?\"\n",
        "processed_input_text=nlp(original_input)\n",
        "keyword_set = set()\n",
        "entity_mapping = []\n",
        "for token in processed_input_text.ents:\n",
        "    if token.text not in keyword_set:\n",
        "      keyword_set.add(token.text )\n",
        "      entity_mapping.append((token.text,token.label_))\n",
        "print (entity_mapping)\n",
        "displacy.render(processed_input_text, style='ent', jupyter=True)"
      ],
      "execution_count": null,
      "outputs": [
        {
          "output_type": "stream",
          "text": [
            "[('Frank', 'PERSON'), ('San Francisco', 'GPE'), ('Elizabeth', 'PERSON'), ('Los Angeles', 'GPE'), ('2', 'CARDINAL'), ('8am in the morning', 'TIME')]\n"
          ],
          "name": "stdout"
        },
        {
          "output_type": "display_data",
          "data": {
            "text/html": [
              "<span class=\"tex2jax_ignore\"><div class=\"entities\" style=\"line-height: 2.5; direction: ltr\">\n",
              "<mark class=\"entity\" style=\"background: #aa9cfc; padding: 0.45em 0.6em; margin: 0 0.25em; line-height: 1; border-radius: 0.35em;\">\n",
              "    Frank\n",
              "    <span style=\"font-size: 0.8em; font-weight: bold; line-height: 1; border-radius: 0.35em; text-transform: uppercase; vertical-align: middle; margin-left: 0.5rem\">PERSON</span>\n",
              "</mark>\n",
              " lives in \n",
              "<mark class=\"entity\" style=\"background: #feca74; padding: 0.45em 0.6em; margin: 0 0.25em; line-height: 1; border-radius: 0.35em;\">\n",
              "    San Francisco\n",
              "    <span style=\"font-size: 0.8em; font-weight: bold; line-height: 1; border-radius: 0.35em; text-transform: uppercase; vertical-align: middle; margin-left: 0.5rem\">GPE</span>\n",
              "</mark>\n",
              " and \n",
              "<mark class=\"entity\" style=\"background: #aa9cfc; padding: 0.45em 0.6em; margin: 0 0.25em; line-height: 1; border-radius: 0.35em;\">\n",
              "    Elizabeth\n",
              "    <span style=\"font-size: 0.8em; font-weight: bold; line-height: 1; border-radius: 0.35em; text-transform: uppercase; vertical-align: middle; margin-left: 0.5rem\">PERSON</span>\n",
              "</mark>\n",
              " lives in \n",
              "<mark class=\"entity\" style=\"background: #feca74; padding: 0.45em 0.6em; margin: 0 0.25em; line-height: 1; border-radius: 0.35em;\">\n",
              "    Los Angeles\n",
              "    <span style=\"font-size: 0.8em; font-weight: bold; line-height: 1; border-radius: 0.35em; text-transform: uppercase; vertical-align: middle; margin-left: 0.5rem\">GPE</span>\n",
              "</mark>\n",
              ". If the flight time is \n",
              "<mark class=\"entity\" style=\"background: #e4e7d2; padding: 0.45em 0.6em; margin: 0 0.25em; line-height: 1; border-radius: 0.35em;\">\n",
              "    2\n",
              "    <span style=\"font-size: 0.8em; font-weight: bold; line-height: 1; border-radius: 0.35em; text-transform: uppercase; vertical-align: middle; margin-left: 0.5rem\">CARDINAL</span>\n",
              "</mark>\n",
              " hrs when will \n",
              "<mark class=\"entity\" style=\"background: #aa9cfc; padding: 0.45em 0.6em; margin: 0 0.25em; line-height: 1; border-radius: 0.35em;\">\n",
              "    Elizabeth\n",
              "    <span style=\"font-size: 0.8em; font-weight: bold; line-height: 1; border-radius: 0.35em; text-transform: uppercase; vertical-align: middle; margin-left: 0.5rem\">PERSON</span>\n",
              "</mark>\n",
              " reach \n",
              "<mark class=\"entity\" style=\"background: #aa9cfc; padding: 0.45em 0.6em; margin: 0 0.25em; line-height: 1; border-radius: 0.35em;\">\n",
              "    Frank\n",
              "    <span style=\"font-size: 0.8em; font-weight: bold; line-height: 1; border-radius: 0.35em; text-transform: uppercase; vertical-align: middle; margin-left: 0.5rem\">PERSON</span>\n",
              "</mark>\n",
              " if she starts at \n",
              "<mark class=\"entity\" style=\"background: #bfe1d9; padding: 0.45em 0.6em; margin: 0 0.25em; line-height: 1; border-radius: 0.35em;\">\n",
              "    8am in the morning\n",
              "    <span style=\"font-size: 0.8em; font-weight: bold; line-height: 1; border-radius: 0.35em; text-transform: uppercase; vertical-align: middle; margin-left: 0.5rem\">TIME</span>\n",
              "</mark>\n",
              "?</div></span>"
            ],
            "text/plain": [
              "<IPython.core.display.HTML object>"
            ]
          },
          "metadata": {
            "tags": []
          }
        }
      ]
    },
    {
      "cell_type": "code",
      "metadata": {
        "id": "kXqzG5AHvJiX",
        "colab_type": "code",
        "colab": {
          "base_uri": "https://localhost:8080/",
          "height": 34
        },
        "outputId": "8d2ebfad-8bd7-435e-8581-646e3483ab97"
      },
      "source": [
        "# Now all entities cannot be localized. Example no need to localize numbers. So keep only relevant entities that need to be localized.\n",
        "keep_entities_list = ['PERSON','GPE','FAC','ORG','PRODUCT','NORP','MONEY','LOC','WORK_OF_ART','LAW','LANGUAGE','QUANTITY']\n",
        "finalized_entity_mapping = {}\n",
        "for ent in entity_mapping:\n",
        "  if ent[1] in keep_entities_list:\n",
        "    finalized_entity_mapping[ent[0]] = []\n",
        "\n",
        "print (finalized_entity_mapping)\n",
        "\n",
        "\n",
        "\n"
      ],
      "execution_count": null,
      "outputs": [
        {
          "output_type": "stream",
          "text": [
            "{'Frank': [], 'San Francisco': [], 'Elizabeth': [], 'Los Angeles': []}\n"
          ],
          "name": "stdout"
        }
      ]
    },
    {
      "cell_type": "markdown",
      "metadata": {
        "id": "f13mIzxxMO2F",
        "colab_type": "text"
      },
      "source": [
        "## Example 1 Step 2: Initialize the Google news word vectors from Gensim and perform localization"
      ]
    },
    {
      "cell_type": "code",
      "metadata": {
        "id": "RjfiVBLvMLLo",
        "colab_type": "code",
        "colab": {
          "base_uri": "https://localhost:8080/",
          "height": 122
        },
        "outputId": "8fbc2b68-22dc-495f-c6fd-ed9800ba19e9"
      },
      "source": [
        "import gensim.downloader as api\n",
        "model = api.load(\"word2vec-google-news-300\") \n",
        "word_vectors = model.wv"
      ],
      "execution_count": null,
      "outputs": [
        {
          "output_type": "stream",
          "text": [
            "[================================================--] 96.8% 1609.5/1662.8MB downloaded\n"
          ],
          "name": "stdout"
        },
        {
          "output_type": "stream",
          "text": [
            "/usr/local/lib/python3.6/dist-packages/smart_open/smart_open_lib.py:254: UserWarning: This function is deprecated, use smart_open.open instead. See the migration notes for details: https://github.com/RaRe-Technologies/smart_open/blob/master/README.rst#migrating-to-the-new-open-function\n",
            "  'See the migration notes for details: %s' % _MIGRATION_NOTES_URL\n",
            "/usr/local/lib/python3.6/dist-packages/ipykernel_launcher.py:3: DeprecationWarning: Call to deprecated `wv` (Attribute will be removed in 4.0.0, use self instead).\n",
            "  This is separate from the ipykernel package so we can avoid doing imports until\n"
          ],
          "name": "stderr"
        }
      ]
    },
    {
      "cell_type": "code",
      "metadata": {
        "id": "kSHM383-MdAV",
        "colab_type": "code",
        "colab": {
          "base_uri": "https://localhost:8080/",
          "height": 139
        },
        "outputId": "f78e73c9-c632-4cb1-8a25-e89b96c15e8f"
      },
      "source": [
        "Origin_country='USA' \n",
        "Target_country='India'\n",
        "\n",
        "final_mapping ={}\n",
        "\n",
        "for word in finalized_entity_mapping: \n",
        "  word = word.strip()\n",
        "  word = word.replace(\" \",\"_\")\n",
        "  try:\n",
        "    similar_words_list= model.most_similar(positive=[Target_country,word],negative=[Origin_country],topn=10)\n",
        "    # Remove the scores for the retrieved choices\n",
        "    similar_words_list = [choices[0].replace(\"_\",\" \") for choices in similar_words_list ]\n",
        "    final_mapping[word.replace(\"_\",\" \")] = similar_words_list\n",
        "  except:\n",
        "    similar_words_list = []\n",
        "    print (\" Fetching similar words failed for \",word)\n",
        "  print (word,\" -- Replacement suggestions -- \",similar_words_list)\n"
      ],
      "execution_count": null,
      "outputs": [
        {
          "output_type": "stream",
          "text": [
            "/usr/local/lib/python3.6/dist-packages/gensim/matutils.py:737: FutureWarning: Conversion of the second argument of issubdtype from `int` to `np.signedinteger` is deprecated. In future, it will be treated as `np.int64 == np.dtype(int).type`.\n",
            "  if np.issubdtype(vec.dtype, np.int):\n"
          ],
          "name": "stderr"
        },
        {
          "output_type": "stream",
          "text": [
            "Frank  -- Replacement suggestions --  ['Sanjay Verma', 'Sabyasachi Sen', 'JK Jain', 'Sunil Chauhan', 'Don', 'Sudip', 'Ajay Shankar', 'Robert', 'V. Srinivasan', 'Kanwar Sain']\n",
            "San_Francisco  -- Replacement suggestions --  ['Bangalore', 'Kolkata', 'Mumbai', 'Chennai', 'Delhi', 'Hyderabad', 'Calcutta', 'San Franciso', 'Bombay', 'Bengaluru']\n",
            "Elizabeth  -- Replacement suggestions --  ['Rekha', 'Nandita', 'Meera', 'Margaret', 'Katharine', 'Bhagirath', 'Monica', 'Lakshmi', 'Manisha', 'Anita']\n",
            "Los_Angeles  -- Replacement suggestions --  ['Mumbai', 'Los Angles', 'Kolkata', 'Chennai', 'Bangalore', 'LA', 'Delhi', 'Hyderabad', 'Ahmedabad', 'Calcutta']\n"
          ],
          "name": "stdout"
        }
      ]
    },
    {
      "cell_type": "code",
      "metadata": {
        "id": "z6O-qodtTiLy",
        "colab_type": "code",
        "colab": {
          "base_uri": "https://localhost:8080/",
          "height": 128
        },
        "outputId": "1be5e224-aeb5-494d-81ae-e5ebdf2681de"
      },
      "source": [
        "from IPython.display import Markdown, display\n",
        "\n",
        "#  Here localization is performed assuming the correct choice is returned first.\n",
        "#  Elizabeth  -- Replacement suggestions --  ['Rekha', 'Nandita', 'Meera', 'Margaret', 'Katharine', 'Bhagirath', 'Monica', 'Lakshmi', 'Manisha', 'Anita']\n",
        "#  Example Elizabeth  is replaced with Rekha.  In the next section we will see how to provide an UI to choose the replacement ourselves.\n",
        "\n",
        "#  This function is used to bolden the relevant entities that are changed.\n",
        "def prepare_string(sentence,mapping,orig=True):\n",
        "  if orig:\n",
        "    for k in mapping:\n",
        "      sentence = sentence.replace(k,\"**\"+k+\"**\")\n",
        "  else:\n",
        "    for k in mapping:\n",
        "      sentence = sentence.replace(mapping[k][0],\"**\"+mapping[k][0]+\"**\")\n",
        "\n",
        "  return sentence\n",
        "\n",
        "\n",
        "def localize(sentence,mapping):\n",
        "  for k in mapping:\n",
        "    sentence = sentence.replace(k,mapping[k][0])\n",
        "  return sentence\n",
        "\n",
        "\n",
        "def printmd(string):\n",
        "    display(Markdown(string))\n",
        "\n",
        "\n",
        "\n",
        "print('Original Sentence:')\n",
        "printmd(prepare_string(original_input,final_mapping))\n",
        "\n",
        "localized_string =  localize(original_input,final_mapping)\n",
        "\n",
        "print('\\nLocalized Sentence:')\n",
        "printmd(prepare_string(localized_string,final_mapping,orig=False))\n",
        "\n"
      ],
      "execution_count": null,
      "outputs": [
        {
          "output_type": "stream",
          "text": [
            "Original Sentence:\n"
          ],
          "name": "stdout"
        },
        {
          "output_type": "display_data",
          "data": {
            "text/markdown": "**Frank** lives in **San Francisco** and **Elizabeth** lives in **Los Angeles**. If the flight time is 2 hrs when will **Elizabeth** reach **Frank** if she starts at 8am in the morning?",
            "text/plain": [
              "<IPython.core.display.Markdown object>"
            ]
          },
          "metadata": {
            "tags": []
          }
        },
        {
          "output_type": "stream",
          "text": [
            "\n",
            "Localized Sentence:\n"
          ],
          "name": "stdout"
        },
        {
          "output_type": "display_data",
          "data": {
            "text/markdown": "**Sanjay Verma** lives in **Bangalore** and **Rekha** lives in **Mumbai**. If the flight time is 2 hrs when will **Rekha** reach **Sanjay Verma** if she starts at 8am in the morning?",
            "text/plain": [
              "<IPython.core.display.Markdown object>"
            ]
          },
          "metadata": {
            "tags": []
          }
        }
      ]
    },
    {
      "cell_type": "markdown",
      "metadata": {
        "id": "FB7tqbLOqWdy",
        "colab_type": "text"
      },
      "source": [
        "## Example 2 Step 1: Extract entities that need to be localized\n",
        "In example 2 we will focus on how we can manually add any missed entities and also select the correct replacement via a simple UI. "
      ]
    },
    {
      "cell_type": "code",
      "metadata": {
        "colab_type": "code",
        "id": "8at58sDSwkC9",
        "colab": {
          "base_uri": "https://localhost:8080/",
          "height": 69
        },
        "outputId": "e7a7ff98-c6ce-4862-e25f-362f353b0c6b"
      },
      "source": [
        "original_input = \"Elizabeth bought 10 croissants at the Los Angeles airport for 5 dollars. How much does 4 croissants cost?\"\n",
        "processed_input_text=nlp(original_input)\n",
        "keyword_set = set()\n",
        "entity_mapping = []\n",
        "for token in processed_input_text.ents:\n",
        "    if token.text not in keyword_set:\n",
        "      keyword_set.add(token.text )\n",
        "      entity_mapping.append((token.text,token.label_))\n",
        "print (entity_mapping)\n",
        "displacy.render(processed_input_text, style='ent', jupyter=True)"
      ],
      "execution_count": null,
      "outputs": [
        {
          "output_type": "stream",
          "text": [
            "[('Elizabeth', 'PERSON'), ('10', 'CARDINAL'), ('Los Angeles', 'GPE'), ('5 dollars', 'MONEY'), ('4', 'CARDINAL')]\n"
          ],
          "name": "stdout"
        },
        {
          "output_type": "display_data",
          "data": {
            "text/html": [
              "<span class=\"tex2jax_ignore\"><div class=\"entities\" style=\"line-height: 2.5; direction: ltr\">\n",
              "<mark class=\"entity\" style=\"background: #aa9cfc; padding: 0.45em 0.6em; margin: 0 0.25em; line-height: 1; border-radius: 0.35em;\">\n",
              "    Elizabeth\n",
              "    <span style=\"font-size: 0.8em; font-weight: bold; line-height: 1; border-radius: 0.35em; text-transform: uppercase; vertical-align: middle; margin-left: 0.5rem\">PERSON</span>\n",
              "</mark>\n",
              " bought \n",
              "<mark class=\"entity\" style=\"background: #e4e7d2; padding: 0.45em 0.6em; margin: 0 0.25em; line-height: 1; border-radius: 0.35em;\">\n",
              "    10\n",
              "    <span style=\"font-size: 0.8em; font-weight: bold; line-height: 1; border-radius: 0.35em; text-transform: uppercase; vertical-align: middle; margin-left: 0.5rem\">CARDINAL</span>\n",
              "</mark>\n",
              " croissants at the \n",
              "<mark class=\"entity\" style=\"background: #feca74; padding: 0.45em 0.6em; margin: 0 0.25em; line-height: 1; border-radius: 0.35em;\">\n",
              "    Los Angeles\n",
              "    <span style=\"font-size: 0.8em; font-weight: bold; line-height: 1; border-radius: 0.35em; text-transform: uppercase; vertical-align: middle; margin-left: 0.5rem\">GPE</span>\n",
              "</mark>\n",
              " airport for \n",
              "<mark class=\"entity\" style=\"background: #e4e7d2; padding: 0.45em 0.6em; margin: 0 0.25em; line-height: 1; border-radius: 0.35em;\">\n",
              "    5 dollars\n",
              "    <span style=\"font-size: 0.8em; font-weight: bold; line-height: 1; border-radius: 0.35em; text-transform: uppercase; vertical-align: middle; margin-left: 0.5rem\">MONEY</span>\n",
              "</mark>\n",
              ". How much does \n",
              "<mark class=\"entity\" style=\"background: #e4e7d2; padding: 0.45em 0.6em; margin: 0 0.25em; line-height: 1; border-radius: 0.35em;\">\n",
              "    4\n",
              "    <span style=\"font-size: 0.8em; font-weight: bold; line-height: 1; border-radius: 0.35em; text-transform: uppercase; vertical-align: middle; margin-left: 0.5rem\">CARDINAL</span>\n",
              "</mark>\n",
              " croissants cost?</div></span>"
            ],
            "text/plain": [
              "<IPython.core.display.HTML object>"
            ]
          },
          "metadata": {
            "tags": []
          }
        }
      ]
    },
    {
      "cell_type": "code",
      "metadata": {
        "id": "adwx-wghww2m",
        "colab_type": "code",
        "colab": {}
      },
      "source": [
        "# Since croissants is missing here, let's add it manually with a fixed entity name from spacy\n",
        "entity_mapping.append(('croissants','PRODUCT'))\n"
      ],
      "execution_count": null,
      "outputs": []
    },
    {
      "cell_type": "code",
      "metadata": {
        "colab_type": "code",
        "id": "dTfk2FCrxYHS",
        "colab": {
          "base_uri": "https://localhost:8080/",
          "height": 34
        },
        "outputId": "f56cb536-43bc-419b-ebeb-ed0b465931e5"
      },
      "source": [
        "def filter_numbers_from_entity(ent_string):\n",
        "  # get the last word and see if it doesn't have numbers. \n",
        "  # Eg: In 5 dollars, 8 pounds try to extract only dollars and pounds\n",
        "  last= ent_string.split()[-1]\n",
        "  if last.isalpha():\n",
        "    return last\n",
        "  else:\n",
        "    return None\n",
        "\n",
        "\n",
        "# Now all entities cannot be localized. Example no need to localize numbers. So keep only relevant entities that need to be localized.\n",
        "keep_entities_list = ['PERSON','GPE','FAC','ORG','PRODUCT','NORP','MONEY','LOC','WORK_OF_ART','LAW','LANGUAGE','QUANTITY']\n",
        "finalized_entity_mapping = {}\n",
        "for ent in entity_mapping:\n",
        "  if ent[1] in keep_entities_list:\n",
        "    if ent[1] in ['MONEY','QUANTITY']:\n",
        "      filtered_entity = filter_numbers_from_entity(ent[0])\n",
        "      if filtered_entity is not None:\n",
        "        finalized_entity_mapping[filtered_entity] = []\n",
        "    else:\n",
        "      finalized_entity_mapping[ent[0]] = []\n",
        "\n",
        "print (finalized_entity_mapping)\n",
        "\n",
        "\n",
        "\n"
      ],
      "execution_count": null,
      "outputs": [
        {
          "output_type": "stream",
          "text": [
            "{'Elizabeth': [], 'Los Angeles': [], 'dollars': [], 'croissants': []}\n"
          ],
          "name": "stdout"
        }
      ]
    },
    {
      "cell_type": "markdown",
      "metadata": {
        "id": "hKjwheWW07cY",
        "colab_type": "text"
      },
      "source": [
        "## Example 2 Step 2: Perform localization\n"
      ]
    },
    {
      "cell_type": "code",
      "metadata": {
        "colab_type": "code",
        "id": "Ye55FyBbBA8J",
        "colab": {
          "base_uri": "https://localhost:8080/",
          "height": 143
        },
        "outputId": "0105e017-5c0c-4d6e-e192-d78a8b79963f"
      },
      "source": [
        "Origin_country='USA' \n",
        "Target_country='India'\n",
        "\n",
        "final_mapping ={}\n",
        "\n",
        "for word in finalized_entity_mapping: \n",
        "  word = word.strip()\n",
        "  word = word.replace(\" \",\"_\")\n",
        "  try:\n",
        "    similar_words_list= model.most_similar(positive=[Target_country,word],negative=[Origin_country],topn=10)\n",
        "    # Remove the scores for the retrieved choices\n",
        "    similar_words_list = [choices[0].replace(\"_\",\" \") for choices in similar_words_list ]\n",
        "    final_mapping[word.replace(\"_\",\" \")] = similar_words_list\n",
        "  except:\n",
        "    similar_words_list = []\n",
        "    print (\" Fetching similar words failed for \",word)\n",
        "  print (word,\" -- Replacement suggestions -- \",similar_words_list)\n"
      ],
      "execution_count": null,
      "outputs": [
        {
          "output_type": "stream",
          "text": [
            "/usr/local/lib/python3.6/dist-packages/gensim/matutils.py:737: FutureWarning: Conversion of the second argument of issubdtype from `int` to `np.signedinteger` is deprecated. In future, it will be treated as `np.int64 == np.dtype(int).type`.\n",
            "  if np.issubdtype(vec.dtype, np.int):\n"
          ],
          "name": "stderr"
        },
        {
          "output_type": "stream",
          "text": [
            "Elizabeth  -- Replacement suggestions --  ['Rekha', 'Nandita', 'Meera', 'Margaret', 'Katharine', 'Bhagirath', 'Monica', 'Lakshmi', 'Manisha', 'Anita']\n",
            "Los_Angeles  -- Replacement suggestions --  ['Mumbai', 'Los Angles', 'Kolkata', 'Chennai', 'Bangalore', 'LA', 'Delhi', 'Hyderabad', 'Ahmedabad', 'Calcutta']\n",
            "dollars  -- Replacement suggestions --  ['rupees', 'crores', 'Rupees', 'Rs.###', 'Rs## crores', 'Rs5 crore', 'Rs.##', 'Rs.### crore Rs.1', 'INR ###bn', 'Rs.### crore Rs.#.#']\n",
            "croissants  -- Replacement suggestions --  ['idlis', 'jalebis', 'pakoras', 'dosas', 'parathas', 'idli', 'masala dosa', 'jalebi', 'idli vada', 'idli dosa']\n"
          ],
          "name": "stdout"
        }
      ]
    },
    {
      "cell_type": "markdown",
      "metadata": {
        "id": "ctCu8luYu5RX",
        "colab_type": "text"
      },
      "source": [
        "**Select the necessary replacements from the drop downs shown.**"
      ]
    },
    {
      "cell_type": "code",
      "metadata": {
        "id": "2iIkhVGLUY6m",
        "colab_type": "code",
        "colab": {
          "base_uri": "https://localhost:8080/",
          "height": 179,
          "referenced_widgets": [
            "24fdb9cf2e9f4dc1b53b9d1dd6c0c4a2",
            "841f19bc08dd41b7a081cbe282d62a9a",
            "f09bea98bcef418daf5c7ccb2323a089",
            "6872cb320cb74a788aafaf9631f90664",
            "bcd46252c48a4fafba8df5293ca24b4d",
            "e7ad3d36514a4a4c98fa0042242287d6",
            "c15403d2adc24069b241db0ea2c85b42",
            "e512c28fb7714ff384684a73e78177a4",
            "9d951535322a4722b893d00be9585b5b",
            "5280409bdb874733b08d064078526502",
            "71462ca64e024dfc82cdba0f78a15f7f",
            "85245c056b0d4daaa0519b09a8454b2c",
            "fe5983130a1d43888d3af0a938a07b4d",
            "47ac28c89bc147c7b08cf394fb43e04a"
          ]
        },
        "outputId": "fd58ea7b-d7a3-43af-82ec-a96f5b136a64"
      },
      "source": [
        "import ipywidgets as widgets                        # Creating widgets\n",
        "from IPython.display import display                 # Displaying widgets\n",
        "\n",
        "output = widgets.Output()\n",
        "# Creating dropdown objects\n",
        "dropdownobjects =[widgets.Dropdown(options = final_mapping[key], description=key) for key in final_mapping]\n",
        "\n",
        "# Display the dropdowns\n",
        "input_widgets = widgets.VBox(dropdownobjects)\n",
        "print (\"Choose from the dropdown the best replacement for a given word and proceed to the next cell : \\n\")\n",
        "display(input_widgets)"
      ],
      "execution_count": null,
      "outputs": [
        {
          "output_type": "stream",
          "text": [
            "Choose from the dropdown the best replacement for a given word and proceed to the next cell : \n",
            "\n"
          ],
          "name": "stdout"
        },
        {
          "output_type": "display_data",
          "data": {
            "application/vnd.jupyter.widget-view+json": {
              "model_id": "24fdb9cf2e9f4dc1b53b9d1dd6c0c4a2",
              "version_minor": 0,
              "version_major": 2
            },
            "text/plain": [
              "VBox(children=(Dropdown(description='Frank', options=('Sanjay Verma', 'Sabyasachi Sen', 'JK Jain', 'Sunil Chau…"
            ]
          },
          "metadata": {
            "tags": []
          }
        }
      ]
    },
    {
      "cell_type": "code",
      "metadata": {
        "id": "oA2TFezNDSnV",
        "colab_type": "code",
        "colab": {
          "base_uri": "https://localhost:8080/",
          "height": 34
        },
        "outputId": "fdd31189-ff16-4311-ef6c-ecf585c1df85"
      },
      "source": [
        "final_UI_chosen_mapping = {}\n",
        "for key,choice in zip(final_mapping.keys(),dropdownobjects):\n",
        "  final_UI_chosen_mapping[key] = choice.value\n",
        "print (final_UI_chosen_mapping)"
      ],
      "execution_count": null,
      "outputs": [
        {
          "output_type": "stream",
          "text": [
            "{'Frank': 'Sanjay Verma', 'San Francisco': 'Bangalore', 'Elizabeth': 'Rekha', 'Los Angeles': 'Mumbai'}\n"
          ],
          "name": "stdout"
        }
      ]
    },
    {
      "cell_type": "code",
      "metadata": {
        "colab_type": "code",
        "id": "QefLnPvTJKxy",
        "colab": {
          "base_uri": "https://localhost:8080/",
          "height": 126
        },
        "outputId": "3b546b61-9473-4f12-ff67-327ea2447b77"
      },
      "source": [
        "from IPython.display import Markdown, display\n",
        "\n",
        "#  This function is used to bolden the relevant entities that are changed.\n",
        "def prepare_string(sentence,mapping,orig=True):\n",
        "  if orig:\n",
        "    for k in mapping:\n",
        "      sentence = sentence.replace(k,\"**\"+k+\"**\")\n",
        "  else:\n",
        "    for k in mapping:\n",
        "      sentence = sentence.replace(mapping[k],\"**\"+mapping[k]+\"**\")\n",
        "\n",
        "  return sentence\n",
        "\n",
        "\n",
        "def localize(sentence,mapping):\n",
        "  for k in mapping:\n",
        "    sentence = sentence.replace(k,mapping[k])\n",
        "  return sentence\n",
        "\n",
        "\n",
        "def printmd(string):\n",
        "    display(Markdown(string))\n",
        "\n",
        "\n",
        "\n",
        "print('Original Sentence:')\n",
        "printmd(prepare_string(original_input,final_UI_chosen_mapping))\n",
        "\n",
        "localized_string =  localize(original_input,final_UI_chosen_mapping)\n",
        "\n",
        "\n",
        "print('\\nLocalized Sentence:')\n",
        "printmd(prepare_string(localized_string,final_UI_chosen_mapping,orig=False))\n",
        "\n"
      ],
      "execution_count": null,
      "outputs": [
        {
          "output_type": "stream",
          "text": [
            "Original Sentence:\n"
          ],
          "name": "stdout"
        },
        {
          "output_type": "display_data",
          "data": {
            "text/markdown": "**Elizabeth** bought 10 croissants at the **Los Angeles** airport for 5 dollars. How much does 4 croissants cost?",
            "text/plain": [
              "<IPython.core.display.Markdown object>"
            ]
          },
          "metadata": {
            "tags": []
          }
        },
        {
          "output_type": "stream",
          "text": [
            "\n",
            "Localized Sentence:\n"
          ],
          "name": "stdout"
        },
        {
          "output_type": "display_data",
          "data": {
            "text/markdown": "**Rekha** bought 10 croissants at the **Mumbai** airport for 5 dollars. How much does 4 croissants cost?",
            "text/plain": [
              "<IPython.core.display.Markdown object>"
            ]
          },
          "metadata": {
            "tags": []
          }
        }
      ]
    },
    {
      "cell_type": "code",
      "metadata": {
        "id": "ClBcAsxhIH62",
        "colab_type": "code",
        "colab": {}
      },
      "source": [
        ""
      ],
      "execution_count": null,
      "outputs": []
    },
    {
      "cell_type": "code",
      "metadata": {
        "id": "Y0K4E_tE29gC",
        "colab_type": "code",
        "colab": {}
      },
      "source": [
        ""
      ],
      "execution_count": null,
      "outputs": []
    },
    {
      "cell_type": "code",
      "metadata": {
        "id": "KTiHMTSy29Va",
        "colab_type": "code",
        "colab": {}
      },
      "source": [
        ""
      ],
      "execution_count": null,
      "outputs": []
    },
    {
      "cell_type": "code",
      "metadata": {
        "id": "IDoVRN5829S7",
        "colab_type": "code",
        "colab": {}
      },
      "source": [
        ""
      ],
      "execution_count": null,
      "outputs": []
    },
    {
      "cell_type": "code",
      "metadata": {
        "id": "eNflbBiCvYSf",
        "colab_type": "code",
        "colab": {}
      },
      "source": [
        ""
      ],
      "execution_count": null,
      "outputs": []
    },
    {
      "cell_type": "code",
      "metadata": {
        "id": "kG-6Y2MjvX9E",
        "colab_type": "code",
        "colab": {}
      },
      "source": [
        ""
      ],
      "execution_count": null,
      "outputs": []
    },
    {
      "cell_type": "code",
      "metadata": {
        "id": "aPC2HXCtvXpw",
        "colab_type": "code",
        "colab": {}
      },
      "source": [
        ""
      ],
      "execution_count": null,
      "outputs": []
    }
  ]
}